{
 "cells": [
  {
   "cell_type": "markdown",
   "metadata": {
    "colab_type": "text",
    "id": "view-in-github"
   },
   "source": [
    "<a href=\"https://colab.research.google.com/github/christinium/Health/blob/main/EchoProject/Gemma_prompt_only_echo_label_longer_prompt.ipynb\" target=\"_parent\"><img src=\"https://colab.research.google.com/assets/colab-badge.svg\" alt=\"Open In Colab\"/></a>"
   ]
  },
  {
   "cell_type": "markdown",
   "metadata": {
    "id": "XYVYKCxvRmMS"
   },
   "source": [
    "## Using Gemma to Label Echo Notes"
   ]
  },
  {
   "cell_type": "code",
   "execution_count": 1,
   "metadata": {
    "colab": {
     "base_uri": "https://localhost:8080/"
    },
    "id": "mha6gF9R60Oc",
    "outputId": "62e6b0af-f25f-4ed4-9d14-9cd898f8c5a9"
   },
   "outputs": [
    {
     "name": "stdout",
     "output_type": "stream",
     "text": [
      "Mounted at /content/drive\n"
     ]
    }
   ],
   "source": [
    "# Mount Google Drive\n",
    "from google.colab import drive\n",
    "drive.mount('/content/drive')\n",
    "\n",
    "# Set up working directory\n",
    "import os\n",
    "WORKING_DIR = '/content/drive/MyDrive/echo_training/'  # Change this to your preferred location\n",
    "os.makedirs(WORKING_DIR, exist_ok=True)\n",
    "os.chdir(WORKING_DIR)"
   ]
  },
  {
   "cell_type": "code",
   "execution_count": 2,
   "metadata": {
    "id": "TFJ919YX648F"
   },
   "outputs": [],
   "source": [
    "# Import libraries\n",
    "import pandas as pd\n",
    "import numpy as np\n",
    "import ast\n",
    "import torch\n",
    "from transformers import AutoModelForCausalLM, AutoTokenizer\n",
    "import re\n",
    "from tqdm import tqdm\n",
    "from datetime import datetime"
   ]
  },
  {
   "cell_type": "code",
   "execution_count": 3,
   "metadata": {
    "id": "3PVCtnuD63g4"
   },
   "outputs": [],
   "source": [
    "import ast\n",
    "from typing import List, Dict"
   ]
  },
  {
   "cell_type": "code",
   "execution_count": 4,
   "metadata": {
    "id": "EeDb5i7J9QHB"
   },
   "outputs": [],
   "source": [
    "test_df = pd.read_csv('echo_test.csv')\n",
    "test_df = test_df.rename(columns={test_df.columns[0]: 'id_num'})"
   ]
  },
  {
   "cell_type": "code",
   "execution_count": 5,
   "metadata": {
    "id": "TNkb8fq00xU5"
   },
   "outputs": [],
   "source": [
    "train_df = pd.read_csv('echo_train.csv')"
   ]
  },
  {
   "cell_type": "code",
   "execution_count": 7,
   "metadata": {
    "id": "L6Ayx6xIYU2r"
   },
   "outputs": [],
   "source": [
    "# Constants and configurations\n",
    "LABEL_NAMES = [\n",
    "    'LA_cavity', 'RA_dilated', 'LV_systolic', 'LV_cavity',\n",
    "    'LV_wall', 'RV_cavity', 'RV_systolic', 'AV_stenosis',\n",
    "    'MV_stenosis', 'TV_regurgitation', 'TV_stenosis',\n",
    "    'TV_pulm_htn', 'AV_regurgitation', 'MV_regurgitation',\n",
    "    'RA_pressure', 'LV_diastolic', 'RV_volume_overload',\n",
    "    'RV_wall', 'RV_pressure_overload'\n",
    "]\n",
    "\n",
    "# Medical context for each feature\n",
    "FEATURE_CONTEXT = {\n",
    "    'LA_cavity': 'left atrial cavity size',\n",
    "    'RA_dilated': 'right atrial dilation',\n",
    "    'LV_systolic': 'left ventricular systolic function',\n",
    "    'LV_cavity': 'left ventricular cavity size',\n",
    "    'LV_wall': 'left ventricular wall size',\n",
    "    'RV_cavity': 'right ventricular cavity size',\n",
    "    'RV_systolic': 'right ventricular systolic function',\n",
    "    'AV_stenosis': 'atrial virus stenoses',\n",
    "    'MV_stenosis': 'mitral valve stenoses',\n",
    "    'TV_regurgitation': 'tricuspid valve regurgitation',\n",
    "    'TV_stenosis': 'tricuspid valve stenoses',\n",
    "    'TV_pulm_htn': 'tricuspid valve pulmonary hypertension',\n",
    "    'AV_regurgitation': 'atrial virus regurgitation',\n",
    "    'MV_regurgitation': 'mitral valve regurgitation',\n",
    "    'RA_pressure': 'right atrial pressure',\n",
    "    'LV_diastolic': 'left ventricular diastolic function',\n",
    "    'RV_volume_overload': 'right ventricular volume overload',\n",
    "    'RV_wall': 'right ventricular wall thickness',\n",
    "    'RV_pressure_overload': 'right ventricular pressure overload'\n",
    "}\n",
    "\n",
    "CODING_SCHEMA = {\n",
    "    \"Study is not adequate to evaluate\": -3,\n",
    "    \"Abnormality not present\": 0,\n",
    "    \"Abnormality is present but not quantifiable\": -2,\n",
    "    \"Abnormality can be categorized as\": {\n",
    "        \"hyperdynamic\": -1,\n",
    "        \"normal\": 0,\n",
    "        \"mild dysfunction\": 1,\n",
    "        \"moderate dysfunction\": 2,\n",
    "    }\n",
    "}"
   ]
  },
  {
   "cell_type": "code",
   "execution_count": 22,
   "metadata": {
    "id": "rnHgOHzhYU5b"
   },
   "outputs": [],
   "source": [
    "# ============================================================================\n",
    "# PROMPT ENGINEERING: Create structured prompts for Gemma model\n",
    "# ============================================================================\n",
    "\n",
    "def create_structured_prompt(text: str) -> str:\n",
    "    \"\"\"Creates a structured medical prompt for echo analysis.\"\"\"\n",
    "\n",
    "    # Format feature context\n",
    "    feature_list = \"\\n\".join([f\"- {key}: {value}\" for key, value in FEATURE_CONTEXT.items()])\n",
    "\n",
    "    # Format expected output\n",
    "    expected_output = \"\\n\".join([f\"{label}: [number]\" for label in LABEL_NAMES])\n",
    "\n",
    "    return f\"\"\"<start_of_turn>user\n",
    "As a cardiologist, analyze this echocardiogram report and provide a structured assessment.\n",
    "\n",
    "For each feature:\n",
    "{feature_list}\n",
    "\n",
    "Use this coding schema to evaluate:\n",
    "-3: Study is not adequate to evaluate\n",
    " 0: Abnormality not present\n",
    "-2: Abnormality is present but not quantifiable\n",
    "-1: Hyperdynamic\n",
    " 0: Normal\n",
    " 1: Mild dysfunction\n",
    " 2: Moderate dysfunction\n",
    " 3: Severe dysfunction\n",
    "\n",
    "**IMPORTANT: Output ONLY the feature names and numbers in the exact format shown below. Do not add any explanations, descriptions, or additional text.**\n",
    "\n",
    "Format your response exactly as:\n",
    "LA_cavity: [number]\n",
    "RA_dilated: [number]\n",
    "LV_systolic: [number]\n",
    "LV_cavity: [number]\n",
    "LV_wall: [number]\n",
    "RV_cavity: [number]\n",
    "RV_systolic: [number]\n",
    "AV_stenosis: [number]\n",
    "MV_stenosis: [number]\n",
    "TV_regurgitation: [number]\n",
    "TV_stenosis: [number]\n",
    "TV_pulm_htn: [number]\n",
    "AV_regurgitation: [number]\n",
    "MV_regurgitation: [number]\n",
    "RA_pressure: [number]\n",
    "LV_diastolic: [number]\n",
    "RV_volume_overload: [number]\n",
    "RV_wall: [number]\n",
    "RV_pressure_overload: [number]\n",
    "\n",
    "Do not include any other text, explanations, or formatting.\n",
    "**Examples:**\n",
    "\n",
    "Example 1:\n",
    "Report: LEFT ATRIUM: The left atrium is mildly dilated. RIGHT ATRIUM/INTERATRIAL SEPTUM: A catheter or pacing wire is seen in the right atrium and/or right ventricle. LEFT VENTRICLE: Left ventricular wall thickness, cavity size, and systolic function are normal (LVEF>55%). Due to suboptimal technical quality, a focal wall motion abnormality cannot be fully excluded. RIGHT VENTRICLE: The right ventricle is not well seen. AORTIC VALVE: A mechanical aortic valve prosthesis is present. The transaortic gradient is higher than expected for this type of prosthesis. Mild to moderate ([**1-24**]+) aortic regurgitation is seen. MITRAL VALVE: The mitral valve leaflets are mildly thickened. Mild to moderate ([**1-24**]+) mitral regurgitation is seen. PERICARDIUM: There is no pericardial effusion.\n",
    "\n",
    "Response:\n",
    "LA_cavity: 1\n",
    "RA_dilated: 0\n",
    "LV_systolic: 0\n",
    "LV_cavity: 0\n",
    "LV_wall: 0\n",
    "RV_cavity: -3\n",
    "RV_systolic: -3\n",
    "AV_stenosis: 0\n",
    "MV_stenosis: 0\n",
    "TV_regurgitation: 0\n",
    "TV_stenosis: 0\n",
    "TV_pulm_htn: 0\n",
    "AV_regurgitation: 0\n",
    "MV_regurgitation: 0\n",
    "RA_pressure: 0\n",
    "LV_diastolic: 0\n",
    "RV_volume_overload: -3\n",
    "RV_wall: -3\n",
    "RV_pressure_overload: -3\n",
    "\n",
    "Example 2:\n",
    "Report: LEFT ATRIUM: Mild LA enlargement. RIGHT ATRIUM/INTERATRIAL SEPTUM: Normal RA size. LEFT VENTRICLE: Normal LV wall thickness. Normal LV cavity size. Depressed LVEF. LV dysnchrony is present. RIGHT VENTRICLE: Normal RV wall thickness. Markedly dilated RV cavity. Severe global RV free wall hypokinesis. Abnormal septal motion/position. AORTA: Normal aortic root diameter. Normal ascending aorta diameter. AORTIC VALVE: Normal aortic valve leaflets (3). No AS. MITRAL VALVE: Mildly thickened mitral valve leaflets. TRICUSPID VALVE: Moderate to severe [3+] TR. Moderate PA systolic hypertension. PERICARDIUM: No pericardial effusion.\n",
    "\n",
    "Response:\n",
    "LA_cavity: 1\n",
    "RA_dilated: 0\n",
    "LV_systolic: -2\n",
    "LV_cavity: 0\n",
    "LV_wall: 0\n",
    "RV_cavity: 2\n",
    "RV_systolic: 3\n",
    "AV_stenosis: 0\n",
    "MV_stenosis: 0\n",
    "TV_regurgitation: 0\n",
    "TV_stenosis: 0\n",
    "TV_pulm_htn: 2\n",
    "AV_regurgitation: 0\n",
    "MV_regurgitation: 0\n",
    "RA_pressure: 0\n",
    "LV_diastolic: 0\n",
    "RV_volume_overload: 0\n",
    "RV_wall: 0\n",
    "RV_pressure_overload: 0\n",
    "\n",
    "Example 3:\n",
    "Report: LEFT ATRIUM: The left atrium is moderately dilated. RIGHT ATRIUM/INTERATRIAL SEPTUM: The right atrium is moderately dilated. LEFT VENTRICLE: There is severe symmetric left ventricular hypertrophy. The left ventricular cavity size is normal. Overall left ventricular systolic function is severely depressed. RIGHT VENTRICLE: Right ventricular chamber size and free wall motion are normal. AORTA: The aortic root is normal in diameter. AORTIC VALVE: The aortic valve leaflets (3) are mildly thickened. Mild to moderate ([**2-12**]+) aortic regurgitation is seen. MITRAL VALVE: The mitral valve leaflets are mildly thickened. There is mild mitral annular calcification. Mild (1+) mitral regurgitation is seen. TRICUSPID VALVE: Mild tricuspid [1+] regurgitation is seen.\n",
    "\n",
    "Response:\n",
    "LA_cavity: 2\n",
    "RA_dilated: 1\n",
    "LV_systolic: 3\n",
    "LV_cavity: 0\n",
    "LV_wall: 3\n",
    "RV_cavity: 0\n",
    "RV_systolic: 0\n",
    "AV_stenosis: 0\n",
    "MV_stenosis: 0\n",
    "TV_regurgitation: 0\n",
    "TV_stenosis: 0\n",
    "TV_pulm_htn: 0\n",
    "AV_regurgitation: 0\n",
    "MV_regurgitation: 1\n",
    "RA_pressure: 0\n",
    "LV_diastolic: 0\n",
    "RV_volume_overload: 0\n",
    "RV_wall: 0\n",
    "RV_pressure_overload: 0\n",
    "\n",
    "**Now analyze this report:**\n",
    "Report:\n",
    "{text}\n",
    "<end_of_turn>\n",
    "<start_of_turn>model\"\"\""
   ]
  },
  {
   "cell_type": "code",
   "execution_count": 24,
   "metadata": {
    "id": "1vwa-xeW5e3p"
   },
   "outputs": [],
   "source": [
    "test_df['gemma_long_prompt'] = test_df['text'].apply(create_structured_prompt)"
   ]
  },
  {
   "cell_type": "code",
   "execution_count": 25,
   "metadata": {
    "colab": {
     "base_uri": "https://localhost:8080/"
    },
    "id": "gRq6fcUkcnzg",
    "outputId": "b2c0bd53-437e-4fab-bd20-78cff3bd47be"
   },
   "outputs": [
    {
     "name": "stdout",
     "output_type": "stream",
     "text": [
      "<start_of_turn>user\n",
      "As a cardiologist, analyze this echocardiogram report and provide a structured assessment.\n",
      "\n",
      "For each feature:\n",
      "- LA_cavity: left atrial cavity size\n",
      "- RA_dilated: right atrial dilation\n",
      "- LV_systolic: left ventricular systolic function\n",
      "- LV_cavity: left ventricular cavity size\n",
      "- LV_wall: left ventricular wall size\n",
      "- RV_cavity: right ventricular cavity size\n",
      "- RV_systolic: right ventricular systolic function\n",
      "- AV_stenosis: atrial virus stenoses\n",
      "- MV_stenosis: mitral valve stenoses\n",
      "- TV_regurgitation: tricuspid valve regurgitation\n",
      "- TV_stenosis: tricuspid valve stenoses\n",
      "- TV_pulm_htn: tricuspid valve pulmonary hypertension\n",
      "- AV_regurgitation: atrial virus regurgitation\n",
      "- MV_regurgitation: mitral valve regurgitation\n",
      "- RA_pressure: right atrial pressure\n",
      "- LV_diastolic: left ventricular diastolic function\n",
      "- RV_volume_overload: right ventricular volume overload\n",
      "- RV_wall: right ventricular wall thickness\n",
      "- RV_pressure_overload: right ventricular pressure overload\n",
      "\n",
      "Use this coding schema to evaluate:\n",
      "-3: Study is not adequate to evaluate\n",
      " 0: Abnormality not present\n",
      "-2: Abnormality is present but not quantifiable\n",
      "-1: Hyperdynamic\n",
      " 0: Normal\n",
      " 1: Mild dysfunction\n",
      " 2: Moderate dysfunction\n",
      " 3: Severe dysfunction\n",
      "\n",
      "**IMPORTANT: Output ONLY the feature names and numbers in the exact format shown below. Do not add any explanations, descriptions, or additional text.**\n",
      "\n",
      "Format your response exactly as:\n",
      "LA_cavity: [number]\n",
      "RA_dilated: [number]\n",
      "LV_systolic: [number]\n",
      "LV_cavity: [number]\n",
      "LV_wall: [number]\n",
      "RV_cavity: [number]\n",
      "RV_systolic: [number]\n",
      "AV_stenosis: [number]\n",
      "MV_stenosis: [number]\n",
      "TV_regurgitation: [number]\n",
      "TV_stenosis: [number]\n",
      "TV_pulm_htn: [number]\n",
      "AV_regurgitation: [number]\n",
      "MV_regurgitation: [number]\n",
      "RA_pressure: [number]\n",
      "LV_diastolic: [number]\n",
      "RV_volume_overload: [number]\n",
      "RV_wall: [number]\n",
      "RV_pressure_overload: [number]\n",
      "\n",
      "Do not include any other text, explanations, or formatting.\n",
      "**Examples:**\n",
      "\n",
      "Example 1:\n",
      "Report: LEFT ATRIUM: The left atrium is mildly dilated. RIGHT ATRIUM/INTERATRIAL SEPTUM: A catheter or pacing wire is seen in the right atrium and/or right ventricle. LEFT VENTRICLE: Left ventricular wall thickness, cavity size, and systolic function are normal (LVEF>55%). Due to suboptimal technical quality, a focal wall motion abnormality cannot be fully excluded. RIGHT VENTRICLE: The right ventricle is not well seen. AORTIC VALVE: A mechanical aortic valve prosthesis is present. The transaortic gradient is higher than expected for this type of prosthesis. Mild to moderate ([**1-24**]+) aortic regurgitation is seen. MITRAL VALVE: The mitral valve leaflets are mildly thickened. Mild to moderate ([**1-24**]+) mitral regurgitation is seen. PERICARDIUM: There is no pericardial effusion.\n",
      "\n",
      "Response:\n",
      "LA_cavity: 1\n",
      "RA_dilated: 0\n",
      "LV_systolic: 0\n",
      "LV_cavity: 0\n",
      "LV_wall: 0\n",
      "RV_cavity: -3\n",
      "RV_systolic: -3\n",
      "AV_stenosis: 0\n",
      "MV_stenosis: 0\n",
      "TV_regurgitation: 0\n",
      "TV_stenosis: 0\n",
      "TV_pulm_htn: 0\n",
      "AV_regurgitation: 0\n",
      "MV_regurgitation: 0\n",
      "RA_pressure: 0\n",
      "LV_diastolic: 0\n",
      "RV_volume_overload: -3\n",
      "RV_wall: -3\n",
      "RV_pressure_overload: -3\n",
      "\n",
      "Example 2:\n",
      "Report: LEFT ATRIUM: Mild LA enlargement. RIGHT ATRIUM/INTERATRIAL SEPTUM: Normal RA size. LEFT VENTRICLE: Normal LV wall thickness. Normal LV cavity size. Depressed LVEF. LV dysnchrony is present. RIGHT VENTRICLE: Normal RV wall thickness. Markedly dilated RV cavity. Severe global RV free wall hypokinesis. Abnormal septal motion/position. AORTA: Normal aortic root diameter. Normal ascending aorta diameter. AORTIC VALVE: Normal aortic valve leaflets (3). No AS. MITRAL VALVE: Mildly thickened mitral valve leaflets. TRICUSPID VALVE: Moderate to severe [3+] TR. Moderate PA systolic hypertension. PERICARDIUM: No pericardial effusion.\n",
      "\n",
      "Response:\n",
      "LA_cavity: 1\n",
      "RA_dilated: 0\n",
      "LV_systolic: -2\n",
      "LV_cavity: 0\n",
      "LV_wall: 0\n",
      "RV_cavity: 2\n",
      "RV_systolic: 3\n",
      "AV_stenosis: 0\n",
      "MV_stenosis: 0\n",
      "TV_regurgitation: 0\n",
      "TV_stenosis: 0\n",
      "TV_pulm_htn: 2\n",
      "AV_regurgitation: 0\n",
      "MV_regurgitation: 0\n",
      "RA_pressure: 0\n",
      "LV_diastolic: 0\n",
      "RV_volume_overload: 0\n",
      "RV_wall: 0\n",
      "RV_pressure_overload: 0\n",
      "\n",
      "Example 3:\n",
      "Report: LEFT ATRIUM: The left atrium is moderately dilated. RIGHT ATRIUM/INTERATRIAL SEPTUM: The right atrium is moderately dilated. LEFT VENTRICLE: There is severe symmetric left ventricular hypertrophy. The left ventricular cavity size is normal. Overall left ventricular systolic function is severely depressed. RIGHT VENTRICLE: Right ventricular chamber size and free wall motion are normal. AORTA: The aortic root is normal in diameter. AORTIC VALVE: The aortic valve leaflets (3) are mildly thickened. Mild to moderate ([**2-12**]+) aortic regurgitation is seen. MITRAL VALVE: The mitral valve leaflets are mildly thickened. There is mild mitral annular calcification. Mild (1+) mitral regurgitation is seen. TRICUSPID VALVE: Mild tricuspid [1+] regurgitation is seen.\n",
      "\n",
      "Response:\n",
      "LA_cavity: 2\n",
      "RA_dilated: 1\n",
      "LV_systolic: 3\n",
      "LV_cavity: 0\n",
      "LV_wall: 3\n",
      "RV_cavity: 0\n",
      "RV_systolic: 0\n",
      "AV_stenosis: 0\n",
      "MV_stenosis: 0\n",
      "TV_regurgitation: 0\n",
      "TV_stenosis: 0\n",
      "TV_pulm_htn: 0\n",
      "AV_regurgitation: 0\n",
      "MV_regurgitation: 1\n",
      "RA_pressure: 0\n",
      "LV_diastolic: 0\n",
      "RV_volume_overload: 0\n",
      "RV_wall: 0\n",
      "RV_pressure_overload: 0\n",
      "\n",
      "**Now analyze this report:**\n",
      "Report:\n",
      "LEFT ATRIUM: The left atrium is normal in size.\n",
      "\n",
      "RIGHT ATRIUM/INTERATRIAL SEPTUM: The right atrium is normal in size.\n",
      "\n",
      "RIGHT VENTRICLE: Right ventricular chamber size and free wall motion are\n",
      "normal.\n",
      "\n",
      "PERICARDIUM: There is no pericardial effusion.\n",
      "<end_of_turn>\n",
      "<start_of_turn>model\n"
     ]
    }
   ],
   "source": [
    "# Here is a sample of what the prompt looks like\n",
    "print(test_df['gemma_long_prompt'].iloc[0])"
   ]
  },
  {
   "cell_type": "code",
   "execution_count": 12,
   "metadata": {
    "colab": {
     "base_uri": "https://localhost:8080/",
     "height": 404,
     "referenced_widgets": [
      "85aa31a4f5fe428396a309940c6710a0",
      "310fbc3b436b4282811eadd6c84d0a60",
      "cd0edddd40ef4092a5d7bb2c8474ed5d",
      "ccbccae1b1d148baa6e2b066f580a06b",
      "63a5bc7202fd4ae49cc7f92cef8bf3ab",
      "cb879c22b0d1407cafff1a13c9755783",
      "36996a8dac534680a6e58f35e4168643",
      "4b6c1b698037425e98a9a471ba2b4abc",
      "229ca503e0ec46149fb43656ea776729",
      "011818cf382e4381988882f41e10ebb3",
      "b8488d84cc2f409192633ea87808d465",
      "1538e83f52e046a49067457cf115e17a",
      "511ba0b2f75842aab63dd6dc856f610e",
      "da671cc0d5a842fc8a93f1ea8a1b36d1",
      "b5dbf427781b42c6b0ec9240b9749c0d",
      "c06a2595721845d2b4e3cd3faa78a3ca",
      "e06610a37efd45b995dfeae9d5ca9a54",
      "11247802de6d4cda85a81b26f0214908",
      "f3ed2f5a1a4742d2b83097bb2405c69f",
      "c8ea5c3bc79642f19fe4b466f7130b3d",
      "af4c844d2aec42a59648d00dfbbe90dd",
      "0986cd3f16d14d29a7cc0686f67a19a6",
      "174e5912b89642489cb6da83b6edd780",
      "f2b0998a371c4b9cb936d029c1c82231",
      "f93d137cef7b4ea3a5e8d711e50d7ad9",
      "a9580fa2315b46c2873258b4db49a538",
      "1c05d521e38f453cb3cde9cba84623d3",
      "9a3d7eb6efef4b4ba2a43fbdd1106a6d",
      "d14cbdcdb4fd4b9c96b70b0ad7fb685e",
      "bb3acf665b9b4716aa05a8a1b39eae1a",
      "0b295bf56b7b4378bd386eeb9874c46f",
      "5feea0915b2e4cbbbfa7a5178d8ed123",
      "30c8871d390540c4a15e3742bf545697",
      "0a83ac664133492f864f5981d172808c",
      "4557844c3fb7496eabb41158ba4adbcc",
      "9a1c150a235e4d86bf03b9d4d4741932",
      "98601dcb2952451599727c8d9724392f",
      "f561d3a883c547e880fb74e4aec6c37b",
      "2bdc1c8d725846c5a2d23e3e664fd319",
      "fe78fbc9feca4b2b8b7a831199199c85",
      "1bed415d949b48c3b5dec1a8ca5dcd4c",
      "ecf595124f81437ba4b1ce060e715b30",
      "7fe3fcee830f492dbf160e3bf030fae8",
      "745a418508c54ab4abbfdc46e316fa2c",
      "efeb1b1f013f4fa1b9ef20f0721173db",
      "3791bb17b8b9406e84639e7542d4f774",
      "963bbe4427114d5aace49a9c81c6e3a4",
      "791c88c28ed34815acfc638ec3886829",
      "7c8ad2bdc6514512b63b7122118a32a6",
      "f58702c80b2a4bf882d856b10a22caf9",
      "88d556cc432d4371981845694fae9fec",
      "940faa991f6e447ea5d0b14f9a19010a",
      "c48f572bc84c43a38cd09eaa71fce4f8",
      "7b8f8dd9bef94343b392089f0a2733c0",
      "43a9d8a736c947588ceb30b8972a37dc",
      "464b1fa2d7134a0c8006f7c71115c2a5",
      "9616b317b61a4d70bd5935a8055b9ee8",
      "fdbacdd0d9084c49bce0739634fdf063",
      "96117c77569a4c0c85ceebf0e7ced066",
      "72bc65928ffa42c594223565c2cd5be9",
      "fe9ce8fdf9bd4fe9948635610da7832a",
      "185cead6cc1d44c189ddaa2130ae7b1b",
      "0a5016d6bdee45c19feab9ead68d4968",
      "77e8f5587ba54f3b8c2940f39932c65e",
      "ef332c2fd0cf421680fb30cd64fbad45",
      "a4dae694dd45433083ae90f21f7ec190",
      "3eee472a1a2c4207918fc8b42b78cb92",
      "c34cae046e0c480a95ff240f3b7fc915",
      "7f79877a154349b897ad425c66868490",
      "67f1d983672e4468b4a6c0b46fc2f43f",
      "de5a1e147cba43908153455e4d360516",
      "e95bf57f78ba4acab4157b0dd25c8629",
      "15e178669f374315bec9507ba0bbab54",
      "d32c7c359b1441bead2f63bb9e3827a4",
      "c981df1d03c443d288040595cbd1aee8",
      "9d441a23ff3e49778bc0bb4b057908b5",
      "36f62347c6bf4cdf816b8a88558c8c97",
      "e4abcc312afd495abdc9e0242cf056ab",
      "7c62ec63d40440b983b82e1297c01fcc",
      "929f545c847c4781b076fbed12bf1a2c",
      "b31eca6654a64d53938e868b47c5de1e",
      "b5c0e32de500459296ca4ef24ff8151e",
      "04f7fbcb76b04e1d8b33aa8714153e74",
      "bcfb471e60be44aba315cd8236ed250f",
      "5d6b297421e245b48e99432b5590045f",
      "9cc2f3da664141bb8aeddd948d9543f2",
      "e6887a302511493ca85dfa35df892b36",
      "7119f200e73f4729b052c85ea46460c0",
      "5a7e4bc7e8d84fafad8e72c6a58ada6d",
      "4370689ed3444c1086f58ac6e9e84f3a",
      "b5234cb62fb3496c9fb77f5b022b1ecb",
      "da1430e8ba554359bcb3c7efce981e04",
      "d03282119f4c464c8259304ac8bbe1b1",
      "fd58722a6e9344ad88eef69a0956d4f2",
      "fdb0f1cc60a44b98ad9dd9a58bc01b2c",
      "0fac1a26589f4296a917f953626efee8",
      "3a822ce2efe541ef8e810444e80a912d",
      "a63d28733151490ea01fd05521eeb645",
      "8297a17877d342ce831a4e408c74417c",
      "25e7169f37a245ff9ec84dc96c6b1d1c",
      "85fc58bfd56d488296de4bc60ffcc798",
      "84ebe95d8565422eac26c8d09dbf4bad",
      "bd4b28aeb0734ab6b6a2eb4c5adb5e48",
      "5d3b72358ec94f3784bfbdedabac9aa7",
      "4d7246f2a180449fb4f42996c622ab10",
      "c840484a23d54bfe92e4606874590706",
      "0845f46b37fc4aa4a37938cee3f82d63",
      "611fe2c709bc48d18952dee802f69d5a",
      "abc7e087507d43aaa429eec0c682256b",
      "c04ab4ce7a0b4fff8f4c695b83b3750e",
      "39166b5e66fb4ff1b0db5150a5cff630",
      "ae518b36829b49aaaac97c48d40f9f9f",
      "1d1dc11bde0d45b0b87f9daa6f6db738",
      "bf82a0d753984e69acd83ca384583030",
      "1850882f386b4e7a9358f78b6caf75df",
      "bb5eeca12b2744059a6eec10c962624e",
      "0599e9adf1a44c52beade9831043bc1a",
      "9b415efa782e4e35b534c532e96ab5e0",
      "dd29fb65d1c34ecb8f61cf21b4433719",
      "3d6fdedc8a4644d09dfba8250e7d667b",
      "b44df9629c0948ec883ae5c4b5da04ad"
     ]
    },
    "id": "5QpZoGwibqQZ",
    "outputId": "a942c456-1f1b-46e1-f3da-4156ba7bcfd8"
   },
   "outputs": [
    {
     "data": {
      "application/vnd.jupyter.widget-view+json": {
       "model_id": "85aa31a4f5fe428396a309940c6710a0",
       "version_major": 2,
       "version_minor": 0
      },
      "text/plain": [
       "tokenizer_config.json:   0%|          | 0.00/34.2k [00:00<?, ?B/s]"
      ]
     },
     "metadata": {},
     "output_type": "display_data"
    },
    {
     "data": {
      "application/vnd.jupyter.widget-view+json": {
       "model_id": "1538e83f52e046a49067457cf115e17a",
       "version_major": 2,
       "version_minor": 0
      },
      "text/plain": [
       "tokenizer.model:   0%|          | 0.00/4.24M [00:00<?, ?B/s]"
      ]
     },
     "metadata": {},
     "output_type": "display_data"
    },
    {
     "data": {
      "application/vnd.jupyter.widget-view+json": {
       "model_id": "174e5912b89642489cb6da83b6edd780",
       "version_major": 2,
       "version_minor": 0
      },
      "text/plain": [
       "tokenizer.json:   0%|          | 0.00/17.5M [00:00<?, ?B/s]"
      ]
     },
     "metadata": {},
     "output_type": "display_data"
    },
    {
     "data": {
      "application/vnd.jupyter.widget-view+json": {
       "model_id": "0a83ac664133492f864f5981d172808c",
       "version_major": 2,
       "version_minor": 0
      },
      "text/plain": [
       "special_tokens_map.json:   0%|          | 0.00/636 [00:00<?, ?B/s]"
      ]
     },
     "metadata": {},
     "output_type": "display_data"
    },
    {
     "data": {
      "application/vnd.jupyter.widget-view+json": {
       "model_id": "efeb1b1f013f4fa1b9ef20f0721173db",
       "version_major": 2,
       "version_minor": 0
      },
      "text/plain": [
       "config.json:   0%|          | 0.00/627 [00:00<?, ?B/s]"
      ]
     },
     "metadata": {},
     "output_type": "display_data"
    },
    {
     "name": "stderr",
     "output_type": "stream",
     "text": [
      "`torch_dtype` is deprecated! Use `dtype` instead!\n"
     ]
    },
    {
     "data": {
      "application/vnd.jupyter.widget-view+json": {
       "model_id": "464b1fa2d7134a0c8006f7c71115c2a5",
       "version_major": 2,
       "version_minor": 0
      },
      "text/plain": [
       "model.safetensors.index.json:   0%|          | 0.00/13.5k [00:00<?, ?B/s]"
      ]
     },
     "metadata": {},
     "output_type": "display_data"
    },
    {
     "data": {
      "application/vnd.jupyter.widget-view+json": {
       "model_id": "3eee472a1a2c4207918fc8b42b78cb92",
       "version_major": 2,
       "version_minor": 0
      },
      "text/plain": [
       "Fetching 2 files:   0%|          | 0/2 [00:00<?, ?it/s]"
      ]
     },
     "metadata": {},
     "output_type": "display_data"
    },
    {
     "data": {
      "application/vnd.jupyter.widget-view+json": {
       "model_id": "e4abcc312afd495abdc9e0242cf056ab",
       "version_major": 2,
       "version_minor": 0
      },
      "text/plain": [
       "model-00001-of-00002.safetensors:   0%|          | 0.00/4.95G [00:00<?, ?B/s]"
      ]
     },
     "metadata": {},
     "output_type": "display_data"
    },
    {
     "data": {
      "application/vnd.jupyter.widget-view+json": {
       "model_id": "5a7e4bc7e8d84fafad8e72c6a58ada6d",
       "version_major": 2,
       "version_minor": 0
      },
      "text/plain": [
       "model-00002-of-00002.safetensors:   0%|          | 0.00/67.1M [00:00<?, ?B/s]"
      ]
     },
     "metadata": {},
     "output_type": "display_data"
    },
    {
     "data": {
      "application/vnd.jupyter.widget-view+json": {
       "model_id": "25e7169f37a245ff9ec84dc96c6b1d1c",
       "version_major": 2,
       "version_minor": 0
      },
      "text/plain": [
       "Loading checkpoint shards:   0%|          | 0/2 [00:00<?, ?it/s]"
      ]
     },
     "metadata": {},
     "output_type": "display_data"
    },
    {
     "data": {
      "application/vnd.jupyter.widget-view+json": {
       "model_id": "39166b5e66fb4ff1b0db5150a5cff630",
       "version_major": 2,
       "version_minor": 0
      },
      "text/plain": [
       "generation_config.json:   0%|          | 0.00/137 [00:00<?, ?B/s]"
      ]
     },
     "metadata": {},
     "output_type": "display_data"
    },
    {
     "name": "stdout",
     "output_type": "stream",
     "text": [
      "Model loaded successfully!\n"
     ]
    }
   ],
   "source": [
    "# ============================================================================\n",
    "# MODEL LOADING: Initialize Gemma 2B instruction-tuned model\n",
    "# ============================================================================\n",
    "\n",
    "from transformers import AutoTokenizer, AutoModelForCausalLM\n",
    "import torch\n",
    "from tqdm import tqdm\n",
    "\n",
    "# Load Gemma model\n",
    "model_name = 'google/gemma-2b-it' # 2B parameter instruction-tuned variant\n",
    "# Load tokenizer (converts text to tokens the model understands)\n",
    "tokenizer = AutoTokenizer.from_pretrained(model_name)\n",
    "# Load model with optimizations:\n",
    "# - torch_dtype=torch.bfloat16: Use bfloat16 precision (saves memory, faster inference)\n",
    "# - device_map=\"auto\": Automatically distribute model across available GPUs\n",
    "model = AutoModelForCausalLM.from_pretrained(\n",
    "    model_name,\n",
    "    torch_dtype=torch.bfloat16,\n",
    "    device_map=\"auto\"\n",
    ")\n",
    "\n",
    "print(\"Model loaded successfully!\")"
   ]
  },
  {
   "cell_type": "code",
   "execution_count": 26,
   "metadata": {
    "id": "ljGbZnbJjwjy"
   },
   "outputs": [],
   "source": [
    "# ============================================================================\n",
    "# BATCH INFERENCE: Run model predictions in batches for efficiency\n",
    "# ============================================================================\n",
    "\n",
    "def run_gemma_batch(prompts_list, batch_size=8):\n",
    "    \"\"\"Run multiple prompts in a batch.\"\"\"\n",
    "    results = []\n",
    "\n",
    "    for i in range(0, len(prompts_list), batch_size):\n",
    "        batch = prompts_list[i:i+batch_size]\n",
    "\n",
    "        inputs = tokenizer(\n",
    "            batch,\n",
    "            return_tensors=\"pt\",\n",
    "            padding=True,\n",
    "            truncation=True,\n",
    "            max_length=2048\n",
    "        ).to(\"cuda\")\n",
    "\n",
    "        outputs = model.generate(\n",
    "            **inputs,\n",
    "            max_new_tokens=200,\n",
    "            do_sample=False,\n",
    "            pad_token_id=tokenizer.eos_token_id\n",
    "        )\n",
    "\n",
    "        # Decode each output in the batch\n",
    "        for j, output in enumerate(outputs):\n",
    "            response = tokenizer.decode(\n",
    "                output[inputs['input_ids'].shape[1]:],\n",
    "                skip_special_tokens=True\n",
    "            )\n",
    "            results.append(response)\n",
    "\n",
    "    return results"
   ]
  },
  {
   "cell_type": "code",
   "execution_count": 27,
   "metadata": {
    "colab": {
     "base_uri": "https://localhost:8080/"
    },
    "id": "44eeqO1ejwmT",
    "outputId": "03b820c0-d729-4c39-ba4b-f70a091c9009"
   },
   "outputs": [
    {
     "name": "stderr",
     "output_type": "stream",
     "text": [
      "100%|██████████| 104/104 [15:20<00:00,  8.85s/it]\n"
     ]
    }
   ],
   "source": [
    "\n",
    "# ============================================================================\n",
    "# RUN INFERENCE: Process all echo reports through Gemma model\n",
    "# ============================================================================\n",
    "# Process in batches\n",
    "batch_size = 64   # Adjust based on your GPU memory (64 works on Colab high-RAM)\n",
    "prompts_list = test_df['gemma_long_prompt'].tolist()\n",
    "results = []\n",
    "\n",
    "# Run inference with progress bar\n",
    "for i in tqdm(range(0, len(prompts_list), batch_size)):\n",
    "    batch = prompts_list[i:i+batch_size]\n",
    "    batch_results = run_gemma_batch(batch, batch_size=batch_size)\n",
    "    results.extend(batch_results)\n",
    "# Store raw model outputs\n",
    "test_df['gemma_long_result'] = results"
   ]
  },
  {
   "cell_type": "code",
   "execution_count": 28,
   "metadata": {
    "id": "rKdvHBYcx6LT"
   },
   "outputs": [],
   "source": [
    "from datetime import datetime\n",
    "# Save predictions to avoid re-running inference\n",
    "timestamp = datetime.now().strftime(\"%Y%m%d_%H%M%S\")\n",
    "filename = f'test_df_with_gemma_long_predictions_{timestamp}.csv'\n",
    "test_df.to_csv(filename, index=False)"
   ]
  },
  {
   "cell_type": "code",
   "execution_count": 30,
   "metadata": {
    "id": "R9sxWw2D8kpf"
   },
   "outputs": [],
   "source": [
    "def calculate_accuracy(df):\n",
    "    \"\"\"Calculate accuracy treating unparseable predictions as WRONG.\"\"\"\n",
    "    accuracy_results = []\n",
    "\n",
    "    for i, label_name in enumerate(LABEL_NAMES):\n",
    "        true_vals = df['labels_parsed'].apply(\n",
    "            lambda x: x[i] if isinstance(x, list) and i < len(x) else None\n",
    "        ).values\n",
    "\n",
    "        pred_vals = df['pred_labels'].apply(\n",
    "            lambda x: x[i] if isinstance(x, list) and i < len(x) else None\n",
    "        ).values\n",
    "\n",
    "        valid_true_mask = ~pd.isna(true_vals)\n",
    "        true_vals_all = true_vals[valid_true_mask]\n",
    "        pred_vals_all = pred_vals[valid_true_mask]\n",
    "\n",
    "        correct = sum(1 for tv, pv in zip(true_vals_all, pred_vals_all)\n",
    "                     if pd.notna(pv) and tv == pv)\n",
    "\n",
    "        total = len(true_vals_all)\n",
    "        accuracy = correct / total if total > 0 else 0\n",
    "        failed = sum(pd.isna(pred_vals_all))\n",
    "\n",
    "        accuracy_results.append({\n",
    "            'label': label_name,\n",
    "            'correct': correct,\n",
    "            'total': total,\n",
    "            'accuracy': accuracy,\n",
    "            'failed': failed\n",
    "        })\n",
    "\n",
    "    exact_matches = sum(\n",
    "        1 for idx in range(len(df))\n",
    "        if (df.iloc[idx]['pred_labels'] is not None and\n",
    "            df.iloc[idx]['labels_parsed'] == df.iloc[idx]['pred_labels'])\n",
    "    )\n",
    "\n",
    "    return accuracy_results, exact_matches"
   ]
  },
  {
   "cell_type": "code",
   "execution_count": 18,
   "metadata": {
    "id": "xx26dnBL8ksd"
   },
   "outputs": [],
   "source": []
  },
  {
   "cell_type": "code",
   "execution_count": 18,
   "metadata": {
    "id": "j9dMW4s08kwF"
   },
   "outputs": [],
   "source": []
  },
  {
   "cell_type": "code",
   "execution_count": 18,
   "metadata": {
    "id": "5sOmMVQB8JDk"
   },
   "outputs": [],
   "source": []
  },
  {
   "cell_type": "code",
   "execution_count": 18,
   "metadata": {
    "id": "cp-1G6rj8JGc"
   },
   "outputs": [],
   "source": []
  },
  {
   "cell_type": "code",
   "execution_count": 18,
   "metadata": {
    "id": "-hWpOHSZ8JJz"
   },
   "outputs": [],
   "source": []
  },
  {
   "cell_type": "code",
   "execution_count": 18,
   "metadata": {
    "id": "uHck_wDz8JMq"
   },
   "outputs": [],
   "source": []
  },
  {
   "cell_type": "code",
   "execution_count": 18,
   "metadata": {
    "id": "CtmFPbvQ8JPg"
   },
   "outputs": [],
   "source": []
  },
  {
   "cell_type": "code",
   "execution_count": 18,
   "metadata": {
    "id": "LO_HyLxt8JSD"
   },
   "outputs": [],
   "source": []
  },
  {
   "cell_type": "code",
   "execution_count": 18,
   "metadata": {
    "id": "yCasyVWK8JU5"
   },
   "outputs": [],
   "source": []
  },
  {
   "cell_type": "code",
   "execution_count": 36,
   "metadata": {
    "id": "HNsxJmGA8JXm"
   },
   "outputs": [],
   "source": [
    "def parse_medical_report(report_text):\n",
    "    \"\"\"\n",
    "    Extract label:value pairs from model's text output.\n",
    "\n",
    "    Example input: \"LA_cavity: 0\\nRA_dilated: 1\\n...\"\n",
    "    Example output: {'LA_cavity': 0, 'RA_dilated': 1, ...}\n",
    "    \"\"\"\n",
    "    pattern = r'\\*?\\*?([A-Z_a-z]+)\\s*:\\s*(\\d+)\\*?\\*?'\n",
    "    matches = re.findall(pattern, str(report_text))\n",
    "    parsed_data = {}\n",
    "    for key, value in matches:\n",
    "        if key in LABEL_NAMES:\n",
    "            parsed_data[key] = int(value)\n",
    "    return parsed_data\n",
    "\n",
    "def parse_to_list(parsed_data):\n",
    "    \"\"\"Convert parsed dictionary to ordered list matching LABEL_NAMES.\"\"\"\n",
    "    return [parsed_data.get(key, None) for key in LABEL_NAMES]\n",
    "\n",
    "# Process predictions: Convert text outputs to numeric lists\n",
    "test_df['gemma_long_result_list'] = test_df['gemma_long_result'].apply(\n",
    "    lambda x: parse_to_list(parse_medical_report(str(x))) if pd.notna(x) else []\n",
    ")"
   ]
  },
  {
   "cell_type": "code",
   "execution_count": 18,
   "metadata": {
    "id": "NEi33nle8JaS"
   },
   "outputs": [],
   "source": []
  },
  {
   "cell_type": "code",
   "execution_count": 37,
   "metadata": {
    "colab": {
     "base_uri": "https://localhost:8080/"
    },
    "id": "6nxukIOlwUl0",
    "outputId": "2634f1f8-0706-467c-e39e-b4587ffd976a"
   },
   "outputs": [
    {
     "name": "stdout",
     "output_type": "stream",
     "text": [
      "================================================================================\n",
      "GEMMA MODEL PERFORMANCE ON ECHO NOTES\n",
      "================================================================================\n",
      "\n",
      "Overall Accuracy: 0.7300 (73.00%)\n",
      "\n",
      "--------------------------------------------------------------------------------\n",
      "Per-Label Performance:\n",
      "--------------------------------------------------------------------------------\n",
      "               Label  Accuracy  Correct  Total  Percentage\n",
      "           LA_cavity  0.245293      951   3877   24.529275\n",
      "          RA_dilated  0.610608     2360   3865   61.060802\n",
      "         LV_systolic  0.385348     1457   3781   38.534779\n",
      "           LV_cavity  0.870743     3375   3876   87.074303\n",
      "             LV_wall  0.423335     1640   3874   42.333505\n",
      "           RV_cavity  0.563017     1702   3023   56.301687\n",
      "         RV_systolic  0.693676     2106   3036   69.367589\n",
      "         AV_stenosis  0.872450     3379   3873   87.245030\n",
      "         MV_stenosis  0.984766     3814   3873   98.476633\n",
      "    TV_regurgitation  0.962561     3728   3873   96.256132\n",
      "         TV_stenosis  0.972344     3762   3869   97.234428\n",
      "         TV_pulm_htn  0.500000     1929   3858   50.000000\n",
      "    AV_regurgitation  0.680923     2627   3858   68.092276\n",
      "    MV_regurgitation  0.467859     1805   3858   46.785899\n",
      "         RA_pressure  0.930112     3580   3849   93.011172\n",
      "        LV_diastolic  0.920916     3540   3844   92.091571\n",
      "  RV_volume_overload  0.937704     3161   3371   93.770395\n",
      "             RV_wall  0.943202     3205   3398   94.320188\n",
      "RV_pressure_overload  0.931993     3152   3382   93.199290\n",
      "================================================================================\n"
     ]
    }
   ],
   "source": [
    "# ============================================================================\n",
    "# PERFORMANCE EVALUATION: Parse model outputs and calculate accuracy\n",
    "# ============================================================================\n",
    "\n",
    "# Load your results\n",
    "#test_df = pd.read_csv('/content/drive/MyDrive/echo_training/test_df_with_gemma_predictions.csv')\n",
    "#test_df = test_df.rename(columns={test_df.columns[0]: 'id_num'})\n",
    "\n",
    "# ----------------------------------------------------------------------------\n",
    "# STEP 1: Parse raw model outputs into structured predictions\n",
    "# We are using regular expressions because the Gemma output is\n",
    "# not consistent.\n",
    "# ----------------------------------------------------------------------------\n",
    "\n",
    "def parse_medical_report(report_text):\n",
    "    \"\"\"\n",
    "    Extract label:value pairs from model's text output.\n",
    "\n",
    "    Example input: \"LA_cavity: 0\\nRA_dilated: 1\\n...\"\n",
    "    Example output: {'LA_cavity': 0, 'RA_dilated': 1, ...}\n",
    "    \"\"\"\n",
    "    pattern = r'\\*?\\*?([A-Z_a-z]+)\\s*:\\s*(\\d+)\\*?\\*?'\n",
    "    matches = re.findall(pattern, str(report_text))\n",
    "    parsed_data = {}\n",
    "    for key, value in matches:\n",
    "        if key in LABEL_NAMES:\n",
    "            parsed_data[key] = int(value)\n",
    "    return parsed_data\n",
    "\n",
    "def parse_to_list(parsed_data):\n",
    "    \"\"\"Convert parsed dictionary to ordered list matching LABEL_NAMES.\"\"\"\n",
    "    return [parsed_data.get(key, None) for key in LABEL_NAMES]\n",
    "\n",
    "# Process predictions: Convert text outputs to numeric lists\n",
    "test_df['gemma_long_result_list'] = test_df['gemma_long_result'].apply(\n",
    "    lambda x: parse_to_list(parse_medical_report(str(x))) if pd.notna(x) else []\n",
    ")\n",
    "\n",
    "# ----------------------------------------------------------------------------\n",
    "# STEP 2: Calculate accuracy metrics\n",
    "# ----------------------------------------------------------------------------\n",
    "\n",
    "def calculate_accuracy(df):\n",
    "    \"\"\"\n",
    "    Compare model predictions against ground truth labels.\n",
    "\n",
    "    Returns:\n",
    "        Dictionary with overall accuracy and per-label breakdown\n",
    "    \"\"\"\n",
    "    results = {\n",
    "        'overall_accuracy': 0,\n",
    "        'per_label_accuracy': {},\n",
    "        'per_label_correct': {},\n",
    "        'per_label_total': {}\n",
    "    }\n",
    "\n",
    "    correct_per_label = {label: 0 for label in LABEL_NAMES}\n",
    "    total_per_label = {label: 0 for label in LABEL_NAMES}\n",
    "    total_predictions = 0\n",
    "    total_correct = 0\n",
    "\n",
    "    for idx, row in df.iterrows():\n",
    "        labels = row['labels_parsed']  # Ground truth\n",
    "        predictions = row['gemma_long_result_list']  # Model predictions\n",
    "\n",
    "        # Parse labels if stored as string\n",
    "        if isinstance(labels, str):\n",
    "            try:\n",
    "                labels = ast.literal_eval(labels)\n",
    "            except:\n",
    "                continue\n",
    "\n",
    "        # Skip invalid rows\n",
    "        if labels is None or predictions is None or len(labels) == 0 or len(predictions) == 0:\n",
    "            continue\n",
    "\n",
    "        # Compare each label position\n",
    "        for i, label_name in enumerate(LABEL_NAMES):\n",
    "            if i >= min(len(labels), len(predictions)):\n",
    "                break\n",
    "\n",
    "            label_val = labels[i]\n",
    "            pred_val = predictions[i]\n",
    "\n",
    "            if label_val is None or pred_val is None:\n",
    "                continue\n",
    "\n",
    "            # Normalize to integers for comparison\n",
    "            try:\n",
    "                label_val = int(float(label_val))\n",
    "                pred_val = int(float(pred_val))\n",
    "            except (ValueError, TypeError):\n",
    "                continue\n",
    "\n",
    "            total_per_label[label_name] += 1\n",
    "            total_predictions += 1\n",
    "\n",
    "            # Check if prediction matches ground truth\n",
    "            if label_val == pred_val:\n",
    "                correct_per_label[label_name] += 1\n",
    "                total_correct += 1\n",
    "\n",
    "    # Calculate overall accuracy\n",
    "    if total_predictions > 0:\n",
    "        results['overall_accuracy'] = total_correct / total_predictions\n",
    "\n",
    "    # Calculate per-label accuracy\n",
    "    for label in LABEL_NAMES:\n",
    "        if total_per_label[label] > 0:\n",
    "            results['per_label_accuracy'][label] = correct_per_label[label] / total_per_label[label]\n",
    "            results['per_label_correct'][label] = correct_per_label[label]\n",
    "            results['per_label_total'][label] = total_per_label[label]\n",
    "        else:\n",
    "            results['per_label_accuracy'][label] = None\n",
    "            results['per_label_correct'][label] = 0\n",
    "            results['per_label_total'][label] = 0\n",
    "\n",
    "    return results\n",
    "\n",
    "# ----------------------------------------------------------------------------\n",
    "# STEP 3: Display results\n",
    "# ----------------------------------------------------------------------------\n",
    "\n",
    "# Run accuracy calculation\n",
    "accuracy_results = calculate_accuracy(test_df)\n",
    "\n",
    "# Display results\n",
    "print(\"=\" * 80)\n",
    "print(\"GEMMA MODEL PERFORMANCE ON ECHO NOTES\")\n",
    "print(\"=\" * 80)\n",
    "print(f\"\\nOverall Accuracy: {accuracy_results['overall_accuracy']:.4f} ({accuracy_results['overall_accuracy']*100:.2f}%)\")\n",
    "print(\"\\n\" + \"-\" * 80)\n",
    "print(\"Per-Label Performance:\")\n",
    "print(\"-\" * 80)\n",
    "\n",
    "# Create summary DataFrame\n",
    "summary_df = pd.DataFrame({\n",
    "    'Label': LABEL_NAMES,\n",
    "    'Accuracy': [accuracy_results['per_label_accuracy'][label] if accuracy_results['per_label_accuracy'][label] is not None else 0\n",
    "                 for label in LABEL_NAMES],\n",
    "    'Correct': [accuracy_results['per_label_correct'][label] for label in LABEL_NAMES],\n",
    "    'Total': [accuracy_results['per_label_total'][label] for label in LABEL_NAMES]\n",
    "})\n",
    "summary_df['Percentage'] = summary_df['Accuracy'] * 100\n",
    "\n",
    "print(summary_df.to_string(index=False))\n",
    "print(\"=\" * 80)"
   ]
  },
  {
   "cell_type": "code",
   "execution_count": null,
   "metadata": {
    "id": "GfL-gozw-wSO"
   },
   "outputs": [],
   "source": []
  },
  {
   "cell_type": "code",
   "execution_count": null,
   "metadata": {
    "id": "-egi2CBH-wvc"
   },
   "outputs": [],
   "source": []
  },
  {
   "cell_type": "code",
   "execution_count": 34,
   "metadata": {
    "id": "X6X6BY88-wyT"
   },
   "outputs": [],
   "source": [
    "\n",
    "accuracy_results = calculate_accuracy(test_df)"
   ]
  },
  {
   "cell_type": "code",
   "execution_count": 35,
   "metadata": {
    "colab": {
     "base_uri": "https://localhost:8080/"
    },
    "id": "fEZp_1k0A0HN",
    "outputId": "b893edb7-db01-43ef-943a-57a357f7c7f8"
   },
   "outputs": [
    {
     "data": {
      "text/plain": [
       "{'overall_accuracy': 0.1457091003370495,\n",
       " 'per_label_accuracy': {'LA_cavity': None,\n",
       "  'RA_dilated': 0.0,\n",
       "  'LV_systolic': 0.0,\n",
       "  'LV_cavity': None,\n",
       "  'LV_wall': None,\n",
       "  'RV_cavity': 0.0,\n",
       "  'RV_systolic': 0.0,\n",
       "  'AV_stenosis': None,\n",
       "  'MV_stenosis': None,\n",
       "  'TV_regurgitation': None,\n",
       "  'TV_stenosis': None,\n",
       "  'TV_pulm_htn': None,\n",
       "  'AV_regurgitation': 0.12475247524752475,\n",
       "  'MV_regurgitation': 0.17701641684511063,\n",
       "  'RA_pressure': None,\n",
       "  'LV_diastolic': 0.005504587155963303,\n",
       "  'RV_volume_overload': None,\n",
       "  'RV_wall': None,\n",
       "  'RV_pressure_overload': None},\n",
       " 'per_label_correct': {'LA_cavity': 0,\n",
       "  'RA_dilated': 0,\n",
       "  'LV_systolic': 0,\n",
       "  'LV_cavity': 0,\n",
       "  'LV_wall': 0,\n",
       "  'RV_cavity': 0,\n",
       "  'RV_systolic': 0,\n",
       "  'AV_stenosis': 0,\n",
       "  'MV_stenosis': 0,\n",
       "  'TV_regurgitation': 0,\n",
       "  'TV_stenosis': 0,\n",
       "  'TV_pulm_htn': 0,\n",
       "  'AV_regurgitation': 63,\n",
       "  'MV_regurgitation': 496,\n",
       "  'RA_pressure': 0,\n",
       "  'LV_diastolic': 3,\n",
       "  'RV_volume_overload': 0,\n",
       "  'RV_wall': 0,\n",
       "  'RV_pressure_overload': 0},\n",
       " 'per_label_total': {'LA_cavity': 0,\n",
       "  'RA_dilated': 2,\n",
       "  'LV_systolic': 1,\n",
       "  'LV_cavity': 0,\n",
       "  'LV_wall': 0,\n",
       "  'RV_cavity': 1,\n",
       "  'RV_systolic': 1,\n",
       "  'AV_stenosis': 0,\n",
       "  'MV_stenosis': 0,\n",
       "  'TV_regurgitation': 0,\n",
       "  'TV_stenosis': 0,\n",
       "  'TV_pulm_htn': 0,\n",
       "  'AV_regurgitation': 505,\n",
       "  'MV_regurgitation': 2802,\n",
       "  'RA_pressure': 0,\n",
       "  'LV_diastolic': 545,\n",
       "  'RV_volume_overload': 0,\n",
       "  'RV_wall': 0,\n",
       "  'RV_pressure_overload': 0}}"
      ]
     },
     "execution_count": 35,
     "metadata": {},
     "output_type": "execute_result"
    }
   ],
   "source": [
    "accuracy_results"
   ]
  }
 ],
 "metadata": {
  "accelerator": "GPU",
  "colab": {
   "authorship_tag": "ABX9TyO6dhaOP/ar3cv+akh60KND",
   "gpuType": "A100",
   "include_colab_link": true,
   "machine_shape": "hm",
   "provenance": []
  },
  "kernelspec": {
   "display_name": "Python 3",
   "name": "python3"
  },
  "language_info": {
   "name": "python"
  }
 },
 "nbformat": 4,
 "nbformat_minor": 0
}
