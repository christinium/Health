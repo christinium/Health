{
 "cells": [
  {
   "cell_type": "markdown",
   "id": "291bd372",
   "metadata": {},
   "source": [
    "# Gemma Model Fine-tuning\n",
    "\n",
    "This notebook demonstrates how to fine-tune the Gemma model from Google DeepMind. We'll cover:\n",
    "1. Setting up the environment\n",
    "2. Loading and preparing the dataset\n",
    "3. Fine-tuning the model\n",
    "4. Evaluating the results\n",
    "\n",
    "> **Note**: This notebook requires a GPU runtime. Make sure to select \"GPU\" in Colab's Runtime settings."
   ]
  },
  {
   "cell_type": "markdown",
   "id": "891f460c",
   "metadata": {},
   "source": [
    "## Environment Setup\n",
    "\n",
    "First, we'll install the required packages. We'll use specific versions to ensure compatibility:"
   ]
  },
  {
   "cell_type": "code",
   "execution_count": null,
   "id": "5b8c27bf",
   "metadata": {},
   "outputs": [],
   "source": [
    "!pip install -q torch==2.1.2 transformers==4.37.2 datasets==2.16.1 accelerate==0.26.1 peft==0.8.2\n",
    "!pip install -q bitsandbytes==0.41.3 trl==0.7.10 sentencepiece==0.1.99\n",
    "!pip install -q google-cloud-aiplatform==1.38.1"
   ]
  },
  {
   "cell_type": "markdown",
   "id": "6344de6e",
   "metadata": {},
   "source": [
    "## Import Dependencies\n",
    "\n",
    "Now let's import all the necessary libraries:"
   ]
  },
  {
   "cell_type": "code",
   "execution_count": null,
   "id": "a46a7dd1",
   "metadata": {},
   "outputs": [],
   "source": [
    "import os\n",
    "import torch\n",
    "from datasets import load_dataset\n",
    "from transformers import (\n",
    "    AutoModelForCausalLM,\n",
    "    AutoTokenizer,\n",
    "    BitsAndBytesConfig,\n",
    "    TrainingArguments,\n",
    "    pipeline,\n",
    "    logging\n",
    ")\n",
    "from peft import LoraConfig, PeftModel\n",
    "from trl import SFTTrainer\n",
    "\n",
    "# Set warning levels\n",
    "logging.set_verbosity_error()\n",
    "os.environ[\"TOKENIZERS_PARALLELISM\"] = \"false\""
   ]
  },
  {
   "cell_type": "markdown",
   "id": "2d758cc6",
   "metadata": {},
   "source": [
    "## Model Configuration\n",
    "\n",
    "Let's set up the configuration for Gemma model loading and quantization:"
   ]
  },
  {
   "cell_type": "code",
   "execution_count": null,
   "id": "e756974b",
   "metadata": {},
   "outputs": [],
   "source": [
    "# Model configuration\n",
    "MODEL_NAME = \"google/gemma-2b-it\"\n",
    "DATASET_NAME = \"databricks/databricks-dolly-15k\"  # Example dataset\n",
    "MAX_SEQ_LENGTH = 1024\n",
    "LEARNING_RATE = 2e-4\n",
    "BATCH_SIZE = 2\n",
    "GRADIENT_ACCUMULATION_STEPS = 4\n",
    "OUTPUT_DIR = \"./gemma-finetuned\"\n",
    "\n",
    "# Quantization configuration\n",
    "bnb_config = BitsAndBytesConfig(\n",
    "    load_in_4bit=True,\n",
    "    bnb_4bit_quant_type=\"nf4\",\n",
    "    bnb_4bit_compute_dtype=torch.float16,\n",
    "    bnb_4bit_use_double_quant=True,\n",
    ")\n",
    "\n",
    "# LoRA configuration\n",
    "lora_config = LoraConfig(\n",
    "    r=64,\n",
    "    lora_alpha=16,\n",
    "    target_modules=[\"q_proj\", \"v_proj\"],\n",
    "    lora_dropout=0.1,\n",
    "    bias=\"none\",\n",
    "    task_type=\"CAUSAL_LM\"\n",
    ")"
   ]
  },
  {
   "cell_type": "markdown",
   "id": "fd004c29",
   "metadata": {},
   "source": [
    "## Load Model and Tokenizer\n",
    "\n",
    "Now we'll load the Gemma model and tokenizer with our configurations:"
   ]
  },
  {
   "cell_type": "code",
   "execution_count": null,
   "id": "84daf5d9",
   "metadata": {},
   "outputs": [],
   "source": [
    "# Load tokenizer\n",
    "tokenizer = AutoTokenizer.from_pretrained(MODEL_NAME)\n",
    "tokenizer.pad_token = tokenizer.eos_token\n",
    "tokenizer.padding_side = \"right\"\n",
    "\n",
    "# Load model\n",
    "model = AutoModelForCausalLM.from_pretrained(\n",
    "    MODEL_NAME,\n",
    "    quantization_config=bnb_config,\n",
    "    device_map=\"auto\",\n",
    "    trust_remote_code=True\n",
    ")\n",
    "model.config.use_cache = False  # Required for gradient checkpointing"
   ]
  },
  {
   "cell_type": "markdown",
   "id": "89e52d18",
   "metadata": {},
   "source": [
    "## Prepare Dataset\n",
    "\n",
    "Let's load and prepare the dataset for fine-tuning. We'll use the Dolly dataset as an example:"
   ]
  },
  {
   "cell_type": "code",
   "execution_count": null,
   "id": "87ea39b7",
   "metadata": {},
   "outputs": [],
   "source": [
    "def format_instruction(example):\n",
    "    \"\"\"Format the instruction-response pair.\"\"\"\n",
    "    return f\"\"\"### Instruction: {example['instruction']}\n",
    "\n",
    "### Input: {example['context']}\n",
    "\n",
    "### Response: {example['response']}\"\"\"\n",
    "\n",
    "# Load and preprocess the dataset\n",
    "dataset = load_dataset(DATASET_NAME, split=\"train\")\n",
    "\n",
    "# Format the dataset\n",
    "formatted_dataset = dataset.map(\n",
    "    lambda x: {\"text\": format_instruction(x)},\n",
    "    remove_columns=dataset.column_names\n",
    ")\n",
    "\n",
    "# Show an example\n",
    "print(\"Sample formatted data:\")\n",
    "print(formatted_dataset[0]['text'])"
   ]
  },
  {
   "cell_type": "markdown",
   "id": "8b8b6cd1",
   "metadata": {},
   "source": [
    "## Training Setup\n",
    "\n",
    "Configure the training arguments and initialize the trainer:"
   ]
  },
  {
   "cell_type": "code",
   "execution_count": null,
   "id": "fbc86b31",
   "metadata": {},
   "outputs": [],
   "source": [
    "# Training arguments\n",
    "training_args = TrainingArguments(\n",
    "    output_dir=OUTPUT_DIR,\n",
    "    num_train_epochs=3,\n",
    "    per_device_train_batch_size=BATCH_SIZE,\n",
    "    gradient_accumulation_steps=GRADIENT_ACCUMULATION_STEPS,\n",
    "    learning_rate=LEARNING_RATE,\n",
    "    weight_decay=0.01,\n",
    "    fp16=True,\n",
    "    logging_steps=10,\n",
    "    save_strategy=\"epoch\",\n",
    "    save_total_limit=2,\n",
    "    remove_unused_columns=False,\n",
    ")\n",
    "\n",
    "# Initialize trainer\n",
    "trainer = SFTTrainer(\n",
    "    model=model,\n",
    "    train_dataset=formatted_dataset,\n",
    "    peft_config=lora_config,\n",
    "    dataset_text_field=\"text\",\n",
    "    max_seq_length=MAX_SEQ_LENGTH,\n",
    "    tokenizer=tokenizer,\n",
    "    args=training_args,\n",
    ")"
   ]
  },
  {
   "cell_type": "markdown",
   "id": "286cf862",
   "metadata": {},
   "source": [
    "## Start Training\n",
    "\n",
    "Now we can start the fine-tuning process:"
   ]
  },
  {
   "cell_type": "code",
   "execution_count": null,
   "id": "d03b1bd4",
   "metadata": {},
   "outputs": [],
   "source": [
    "# Start the training\n",
    "trainer.train()"
   ]
  },
  {
   "cell_type": "markdown",
   "id": "c8a6d89d",
   "metadata": {},
   "source": [
    "## Test the Fine-tuned Model\n",
    "\n",
    "Let's test our fine-tuned model with some example prompts:"
   ]
  },
  {
   "cell_type": "code",
   "execution_count": null,
   "id": "7fe3ef4c",
   "metadata": {},
   "outputs": [],
   "source": [
    "# Load the fine-tuned model\n",
    "fine_tuned_model = AutoModelForCausalLM.from_pretrained(\n",
    "    OUTPUT_DIR,\n",
    "    device_map=\"auto\",\n",
    "    trust_remote_code=True\n",
    ")\n",
    "\n",
    "# Create a pipeline for text generation\n",
    "pipe = pipeline(\n",
    "    \"text-generation\",\n",
    "    model=fine_tuned_model,\n",
    "    tokenizer=tokenizer,\n",
    "    max_new_tokens=512,\n",
    "    temperature=0.7,\n",
    "    top_p=0.95,\n",
    "    repetition_penalty=1.15\n",
    ")\n",
    "\n",
    "# Test prompt\n",
    "test_prompt = \"\"\"### Instruction: Explain the concept of machine learning in simple terms.\n",
    "\n",
    "### Input: None\n",
    "\n",
    "### Response:\"\"\"\n",
    "\n",
    "# Generate response\n",
    "response = pipe(test_prompt)[0]['generated_text']\n",
    "print(\"Model response:\")\n",
    "print(response.split(\"### Response:\")[-1].strip())"
   ]
  },
  {
   "cell_type": "markdown",
   "id": "38f6cbeb",
   "metadata": {},
   "source": [
    "## Save and Share the Model\n",
    "\n",
    "If you want to save and share your fine-tuned model, you can upload it to the Hugging Face Hub:"
   ]
  },
  {
   "cell_type": "code",
   "execution_count": null,
   "id": "dc0e5bf8",
   "metadata": {},
   "outputs": [],
   "source": [
    "# Save the model locally\n",
    "trainer.model.save_pretrained(OUTPUT_DIR)\n",
    "tokenizer.save_pretrained(OUTPUT_DIR)\n",
    "\n",
    "# Optional: Upload to Hugging Face Hub\n",
    "# from huggingface_hub import notebook_login\n",
    "# notebook_login()\n",
    "# trainer.model.push_to_hub(\"your-username/your-model-name\")"
   ]
  }
 ],
 "metadata": {
  "language_info": {
   "name": "python"
  }
 },
 "nbformat": 4,
 "nbformat_minor": 5
}
