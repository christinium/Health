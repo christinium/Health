{
  "nbformat": 4,
  "nbformat_minor": 0,
  "metadata": {
    "colab": {
      "provenance": [],
      "machine_shape": "hm",
      "gpuType": "L4"
    },
    "kernelspec": {
      "name": "python3",
      "display_name": "Python 3"
    },
    "language_info": {
      "name": "python"
    },
    "accelerator": "GPU",
    "widgets": {
      "application/vnd.jupyter.widget-state+json": {
        "9874bce056cf40aab5c8481aecd9d759": {
          "model_module": "@jupyter-widgets/controls",
          "model_name": "HBoxModel",
          "model_module_version": "1.5.0",
          "state": {
            "_dom_classes": [],
            "_model_module": "@jupyter-widgets/controls",
            "_model_module_version": "1.5.0",
            "_model_name": "HBoxModel",
            "_view_count": null,
            "_view_module": "@jupyter-widgets/controls",
            "_view_module_version": "1.5.0",
            "_view_name": "HBoxView",
            "box_style": "",
            "children": [
              "IPY_MODEL_9de45faeb5ab477e9c7bb10c960f93e9",
              "IPY_MODEL_140be6325c6047bcabe102b7c100a1e7",
              "IPY_MODEL_f64f7b373da14c11894bf674221d686c"
            ],
            "layout": "IPY_MODEL_ce1643d2752c4ddfafa8e02278506bc1"
          }
        },
        "9de45faeb5ab477e9c7bb10c960f93e9": {
          "model_module": "@jupyter-widgets/controls",
          "model_name": "HTMLModel",
          "model_module_version": "1.5.0",
          "state": {
            "_dom_classes": [],
            "_model_module": "@jupyter-widgets/controls",
            "_model_module_version": "1.5.0",
            "_model_name": "HTMLModel",
            "_view_count": null,
            "_view_module": "@jupyter-widgets/controls",
            "_view_module_version": "1.5.0",
            "_view_name": "HTMLView",
            "description": "",
            "description_tooltip": null,
            "layout": "IPY_MODEL_7c42a754b2644780bd9a76b9de4d9cd3",
            "placeholder": "​",
            "style": "IPY_MODEL_260d4852002946f3b658973dda1db849",
            "value": "Loading checkpoint shards: 100%"
          }
        },
        "140be6325c6047bcabe102b7c100a1e7": {
          "model_module": "@jupyter-widgets/controls",
          "model_name": "FloatProgressModel",
          "model_module_version": "1.5.0",
          "state": {
            "_dom_classes": [],
            "_model_module": "@jupyter-widgets/controls",
            "_model_module_version": "1.5.0",
            "_model_name": "FloatProgressModel",
            "_view_count": null,
            "_view_module": "@jupyter-widgets/controls",
            "_view_module_version": "1.5.0",
            "_view_name": "ProgressView",
            "bar_style": "success",
            "description": "",
            "description_tooltip": null,
            "layout": "IPY_MODEL_1cb8a43a9b2c447fb0158481b74f1578",
            "max": 2,
            "min": 0,
            "orientation": "horizontal",
            "style": "IPY_MODEL_a463cf1ec3614924857b22f2868cae8e",
            "value": 2
          }
        },
        "f64f7b373da14c11894bf674221d686c": {
          "model_module": "@jupyter-widgets/controls",
          "model_name": "HTMLModel",
          "model_module_version": "1.5.0",
          "state": {
            "_dom_classes": [],
            "_model_module": "@jupyter-widgets/controls",
            "_model_module_version": "1.5.0",
            "_model_name": "HTMLModel",
            "_view_count": null,
            "_view_module": "@jupyter-widgets/controls",
            "_view_module_version": "1.5.0",
            "_view_name": "HTMLView",
            "description": "",
            "description_tooltip": null,
            "layout": "IPY_MODEL_fd28a03ec0034c0eba3c14a9c338a9b0",
            "placeholder": "​",
            "style": "IPY_MODEL_2df5da2c0e284b06a7ed5c4d6200f838",
            "value": " 2/2 [01:26&lt;00:00, 36.13s/it]"
          }
        },
        "ce1643d2752c4ddfafa8e02278506bc1": {
          "model_module": "@jupyter-widgets/base",
          "model_name": "LayoutModel",
          "model_module_version": "1.2.0",
          "state": {
            "_model_module": "@jupyter-widgets/base",
            "_model_module_version": "1.2.0",
            "_model_name": "LayoutModel",
            "_view_count": null,
            "_view_module": "@jupyter-widgets/base",
            "_view_module_version": "1.2.0",
            "_view_name": "LayoutView",
            "align_content": null,
            "align_items": null,
            "align_self": null,
            "border": null,
            "bottom": null,
            "display": null,
            "flex": null,
            "flex_flow": null,
            "grid_area": null,
            "grid_auto_columns": null,
            "grid_auto_flow": null,
            "grid_auto_rows": null,
            "grid_column": null,
            "grid_gap": null,
            "grid_row": null,
            "grid_template_areas": null,
            "grid_template_columns": null,
            "grid_template_rows": null,
            "height": null,
            "justify_content": null,
            "justify_items": null,
            "left": null,
            "margin": null,
            "max_height": null,
            "max_width": null,
            "min_height": null,
            "min_width": null,
            "object_fit": null,
            "object_position": null,
            "order": null,
            "overflow": null,
            "overflow_x": null,
            "overflow_y": null,
            "padding": null,
            "right": null,
            "top": null,
            "visibility": null,
            "width": null
          }
        },
        "7c42a754b2644780bd9a76b9de4d9cd3": {
          "model_module": "@jupyter-widgets/base",
          "model_name": "LayoutModel",
          "model_module_version": "1.2.0",
          "state": {
            "_model_module": "@jupyter-widgets/base",
            "_model_module_version": "1.2.0",
            "_model_name": "LayoutModel",
            "_view_count": null,
            "_view_module": "@jupyter-widgets/base",
            "_view_module_version": "1.2.0",
            "_view_name": "LayoutView",
            "align_content": null,
            "align_items": null,
            "align_self": null,
            "border": null,
            "bottom": null,
            "display": null,
            "flex": null,
            "flex_flow": null,
            "grid_area": null,
            "grid_auto_columns": null,
            "grid_auto_flow": null,
            "grid_auto_rows": null,
            "grid_column": null,
            "grid_gap": null,
            "grid_row": null,
            "grid_template_areas": null,
            "grid_template_columns": null,
            "grid_template_rows": null,
            "height": null,
            "justify_content": null,
            "justify_items": null,
            "left": null,
            "margin": null,
            "max_height": null,
            "max_width": null,
            "min_height": null,
            "min_width": null,
            "object_fit": null,
            "object_position": null,
            "order": null,
            "overflow": null,
            "overflow_x": null,
            "overflow_y": null,
            "padding": null,
            "right": null,
            "top": null,
            "visibility": null,
            "width": null
          }
        },
        "260d4852002946f3b658973dda1db849": {
          "model_module": "@jupyter-widgets/controls",
          "model_name": "DescriptionStyleModel",
          "model_module_version": "1.5.0",
          "state": {
            "_model_module": "@jupyter-widgets/controls",
            "_model_module_version": "1.5.0",
            "_model_name": "DescriptionStyleModel",
            "_view_count": null,
            "_view_module": "@jupyter-widgets/base",
            "_view_module_version": "1.2.0",
            "_view_name": "StyleView",
            "description_width": ""
          }
        },
        "1cb8a43a9b2c447fb0158481b74f1578": {
          "model_module": "@jupyter-widgets/base",
          "model_name": "LayoutModel",
          "model_module_version": "1.2.0",
          "state": {
            "_model_module": "@jupyter-widgets/base",
            "_model_module_version": "1.2.0",
            "_model_name": "LayoutModel",
            "_view_count": null,
            "_view_module": "@jupyter-widgets/base",
            "_view_module_version": "1.2.0",
            "_view_name": "LayoutView",
            "align_content": null,
            "align_items": null,
            "align_self": null,
            "border": null,
            "bottom": null,
            "display": null,
            "flex": null,
            "flex_flow": null,
            "grid_area": null,
            "grid_auto_columns": null,
            "grid_auto_flow": null,
            "grid_auto_rows": null,
            "grid_column": null,
            "grid_gap": null,
            "grid_row": null,
            "grid_template_areas": null,
            "grid_template_columns": null,
            "grid_template_rows": null,
            "height": null,
            "justify_content": null,
            "justify_items": null,
            "left": null,
            "margin": null,
            "max_height": null,
            "max_width": null,
            "min_height": null,
            "min_width": null,
            "object_fit": null,
            "object_position": null,
            "order": null,
            "overflow": null,
            "overflow_x": null,
            "overflow_y": null,
            "padding": null,
            "right": null,
            "top": null,
            "visibility": null,
            "width": null
          }
        },
        "a463cf1ec3614924857b22f2868cae8e": {
          "model_module": "@jupyter-widgets/controls",
          "model_name": "ProgressStyleModel",
          "model_module_version": "1.5.0",
          "state": {
            "_model_module": "@jupyter-widgets/controls",
            "_model_module_version": "1.5.0",
            "_model_name": "ProgressStyleModel",
            "_view_count": null,
            "_view_module": "@jupyter-widgets/base",
            "_view_module_version": "1.2.0",
            "_view_name": "StyleView",
            "bar_color": null,
            "description_width": ""
          }
        },
        "fd28a03ec0034c0eba3c14a9c338a9b0": {
          "model_module": "@jupyter-widgets/base",
          "model_name": "LayoutModel",
          "model_module_version": "1.2.0",
          "state": {
            "_model_module": "@jupyter-widgets/base",
            "_model_module_version": "1.2.0",
            "_model_name": "LayoutModel",
            "_view_count": null,
            "_view_module": "@jupyter-widgets/base",
            "_view_module_version": "1.2.0",
            "_view_name": "LayoutView",
            "align_content": null,
            "align_items": null,
            "align_self": null,
            "border": null,
            "bottom": null,
            "display": null,
            "flex": null,
            "flex_flow": null,
            "grid_area": null,
            "grid_auto_columns": null,
            "grid_auto_flow": null,
            "grid_auto_rows": null,
            "grid_column": null,
            "grid_gap": null,
            "grid_row": null,
            "grid_template_areas": null,
            "grid_template_columns": null,
            "grid_template_rows": null,
            "height": null,
            "justify_content": null,
            "justify_items": null,
            "left": null,
            "margin": null,
            "max_height": null,
            "max_width": null,
            "min_height": null,
            "min_width": null,
            "object_fit": null,
            "object_position": null,
            "order": null,
            "overflow": null,
            "overflow_x": null,
            "overflow_y": null,
            "padding": null,
            "right": null,
            "top": null,
            "visibility": null,
            "width": null
          }
        },
        "2df5da2c0e284b06a7ed5c4d6200f838": {
          "model_module": "@jupyter-widgets/controls",
          "model_name": "DescriptionStyleModel",
          "model_module_version": "1.5.0",
          "state": {
            "_model_module": "@jupyter-widgets/controls",
            "_model_module_version": "1.5.0",
            "_model_name": "DescriptionStyleModel",
            "_view_count": null,
            "_view_module": "@jupyter-widgets/base",
            "_view_module_version": "1.2.0",
            "_view_name": "StyleView",
            "description_width": ""
          }
        }
      }
    }
  },
  "cells": [
    {
      "cell_type": "markdown",
      "source": [
        "# Echo Results Review Try 2"
      ],
      "metadata": {
        "id": "r7zpJ0SAyRXS"
      }
    },
    {
      "cell_type": "code",
      "execution_count": 1,
      "metadata": {
        "colab": {
          "base_uri": "https://localhost:8080/"
        },
        "id": "EWe6XAZ-xpBN",
        "outputId": "81f948a9-e566-48d7-e9d0-12a45d4443d6"
      },
      "outputs": [
        {
          "output_type": "stream",
          "name": "stdout",
          "text": [
            "Mounted at /content/drive\n"
          ]
        }
      ],
      "source": [
        "# Mount Google Drive\n",
        "from google.colab import drive\n",
        "drive.mount('/content/drive')\n",
        "\n",
        "# Set up working directory\n",
        "import os\n",
        "WORKING_DIR = '/content/drive/MyDrive/echo_training/'  # Change this to your preferred location\n",
        "os.makedirs(WORKING_DIR, exist_ok=True)\n",
        "os.chdir(WORKING_DIR)"
      ]
    },
    {
      "cell_type": "code",
      "source": [
        "import pandas as pd\n",
        "import numpy as np\n",
        "import ast\n",
        "from tqdm import tqdm\n",
        "from transformers import AutoModelForCausalLM, AutoTokenizer\n",
        "import torch"
      ],
      "metadata": {
        "id": "yvGlzCufyfLA"
      },
      "execution_count": 2,
      "outputs": []
    },
    {
      "cell_type": "code",
      "source": [
        "train_df = pd.read_csv('echo_train.csv')\n",
        "tune_df = pd.read_csv('echo_tune.csv')\n",
        "test_df = pd.read_csv('echo_test.csv')"
      ],
      "metadata": {
        "id": "HEU6Eg7JzBo2"
      },
      "execution_count": 3,
      "outputs": []
    },
    {
      "cell_type": "code",
      "source": [
        "test_df_copy = test_df.copy()"
      ],
      "metadata": {
        "id": "Pyp9X_O5zDiu"
      },
      "execution_count": 4,
      "outputs": []
    },
    {
      "cell_type": "code",
      "source": [
        "test_df_copy = test_df_copy.rename(columns={test_df_copy.columns[0]: 'id_num'})"
      ],
      "metadata": {
        "id": "F5lpo5BGzgCE"
      },
      "execution_count": 5,
      "outputs": []
    },
    {
      "cell_type": "code",
      "source": [
        "\n",
        "# ==============================================================================\n",
        "# SETUP: LOAD MODEL AND DEFINE LABELS\n",
        "# ==============================================================================\n",
        "\n",
        "# Define label names\n",
        "LABEL_NAMES = [\n",
        "    'LA_cavity', 'RA_dilated', 'LV_systolic', 'LV_cavity',\n",
        "    'LV_wall', 'RV_cavity', 'RV_systolic', 'AV_stenosis',\n",
        "    'MV_stenosis', 'TV_regurgitation', 'TV_stenosis',\n",
        "    'TV_pulm_htn', 'AV_regurgitation', 'MV_regurgitation',\n",
        "    'RA_pressure', 'LV_diastolic', 'RV_volume_overload',\n",
        "    'RV_wall', 'RV_pressure_overload'\n",
        "]\n",
        "\n",
        "# Load the fine-tuned model\n",
        "model_path = \"final_model\"\n",
        "tokenizer = AutoTokenizer.from_pretrained(model_path)\n",
        "model = AutoModelForCausalLM.from_pretrained(\n",
        "    model_path,\n",
        "    device_map=\"auto\",\n",
        "    torch_dtype=torch.bfloat16\n",
        ")"
      ],
      "metadata": {
        "colab": {
          "base_uri": "https://localhost:8080/",
          "height": 66,
          "referenced_widgets": [
            "9874bce056cf40aab5c8481aecd9d759",
            "9de45faeb5ab477e9c7bb10c960f93e9",
            "140be6325c6047bcabe102b7c100a1e7",
            "f64f7b373da14c11894bf674221d686c",
            "ce1643d2752c4ddfafa8e02278506bc1",
            "7c42a754b2644780bd9a76b9de4d9cd3",
            "260d4852002946f3b658973dda1db849",
            "1cb8a43a9b2c447fb0158481b74f1578",
            "a463cf1ec3614924857b22f2868cae8e",
            "fd28a03ec0034c0eba3c14a9c338a9b0",
            "2df5da2c0e284b06a7ed5c4d6200f838"
          ]
        },
        "id": "iwDVLfmcyiif",
        "outputId": "f912c1be-cf87-42a7-9457-c523dfa84b73"
      },
      "execution_count": 6,
      "outputs": [
        {
          "output_type": "stream",
          "name": "stderr",
          "text": [
            "`torch_dtype` is deprecated! Use `dtype` instead!\n"
          ]
        },
        {
          "output_type": "display_data",
          "data": {
            "text/plain": [
              "Loading checkpoint shards:   0%|          | 0/2 [00:00<?, ?it/s]"
            ],
            "application/vnd.jupyter.widget-view+json": {
              "version_major": 2,
              "version_minor": 0,
              "model_id": "9874bce056cf40aab5c8481aecd9d759"
            }
          },
          "metadata": {}
        }
      ]
    },
    {
      "cell_type": "code",
      "source": [
        "\n",
        "# ==============================================================================\n",
        "# INFERENCE FUNCTION\n",
        "# ==============================================================================\n",
        "\n",
        "def generate_prediction(text):\n",
        "    prompt = f\"\"\"<start_of_turn>user\n",
        "Analyze this echocardiogram report and provide assessment values for each cardiac feature. Output should be in the format \"feature: value\" for each of the 19 features.\n",
        "\n",
        "Report:\n",
        "{text}<end_of_turn>\n",
        "<start_of_turn>model\n",
        "\"\"\"\n",
        "\n",
        "    inputs = tokenizer(prompt, return_tensors=\"pt\").to(model.device)\n",
        "    outputs = model.generate(\n",
        "        **inputs,\n",
        "        max_new_tokens=300,\n",
        "        temperature=0.1,\n",
        "        do_sample=False,\n",
        "        pad_token_id=tokenizer.eos_token_id\n",
        "    )\n",
        "\n",
        "    full_output = tokenizer.decode(outputs[0], skip_special_tokens=True)\n",
        "    # Extract just the model's response\n",
        "    model_output = full_output.split(\"<start_of_turn>model\\n\")[-1].strip()\n",
        "    return model_output\n"
      ],
      "metadata": {
        "id": "zAp7BJopykxw"
      },
      "execution_count": 7,
      "outputs": []
    },
    {
      "cell_type": "code",
      "source": [
        "# ==============================================================================\n",
        "# PARSE PREDICTIONS - SIMPLER VERSION\n",
        "# ==============================================================================\n",
        "\n",
        "def parse_prediction(pred_text):\n",
        "    \"\"\"Extract predicted label values from model output text\"\"\"\n",
        "    predicted = []\n",
        "    lines = pred_text.split('\\n')\n",
        "\n",
        "    for label_name in LABEL_NAMES:\n",
        "        found = False\n",
        "        for line in lines:\n",
        "            if label_name in line and ':' in line:\n",
        "                try:\n",
        "                    # Get text after colon, remove spaces, convert to int\n",
        "                    value_str = line.split(':')[1].strip()\n",
        "                    value = int(value_str)\n",
        "                    predicted.append(value)\n",
        "                    found = True\n",
        "                    break\n",
        "                except:\n",
        "                    pass\n",
        "\n",
        "        if not found:\n",
        "            predicted.append(None)\n",
        "\n",
        "    return predicted"
      ],
      "metadata": {
        "id": "mnxe2a5nynCH"
      },
      "execution_count": 8,
      "outputs": []
    },
    {
      "cell_type": "code",
      "source": [
        "# ==============================================================================\n",
        "# RUN INFERENCE ON ALL TEST EXAMPLES\n",
        "# ==============================================================================\n",
        "\n",
        "results = []\n",
        "\n",
        "print(f\"Running inference on {len(test_df_copy)} test examples...\")\n",
        "for idx in tqdm(range(len(test_df_copy))):\n",
        "    # Get data\n",
        "    echo_text = test_df_copy.iloc[idx]['text']\n",
        "    true_labels_raw = test_df_copy.iloc[idx]['labels']\n",
        "    id_num = test_df_copy.iloc[idx]['id_num']\n",
        "\n",
        "    # Parse true labels\n",
        "    if isinstance(true_labels_raw, str):\n",
        "        true_labels = ast.literal_eval(true_labels_raw)\n",
        "    else:\n",
        "        true_labels = true_labels_raw\n",
        "\n",
        "    # Generate prediction\n",
        "    pred_text = generate_prediction(echo_text)\n",
        "\n",
        "    # Store results\n",
        "    result = {\n",
        "        'idx': idx,\n",
        "        'id_num': id_num,\n",
        "        'echo_text': echo_text,\n",
        "        'true_labels': true_labels,\n",
        "        'prediction_text': pred_text\n",
        "    }\n",
        "\n",
        "    results.append(result)\n",
        "\n",
        "# Convert to DataFrame\n",
        "results_df = pd.DataFrame(results)\n",
        "\n",
        "# Save results\n",
        "results_df.to_csv('test_inference_results.csv', index=False)\n",
        "print(f\"\\nSaved results to test_inference_results.csv\")\n",
        "print(f\"Shape: {results_df.shape}\")"
      ],
      "metadata": {
        "colab": {
          "base_uri": "https://localhost:8080/"
        },
        "id": "iw57Jqw-yqFo",
        "outputId": "d94adc5a-425f-4434-fbfe-b3c72f64d9e2"
      },
      "execution_count": null,
      "outputs": [
        {
          "output_type": "stream",
          "name": "stdout",
          "text": [
            "Running inference on 6608 test examples...\n"
          ]
        },
        {
          "output_type": "stream",
          "name": "stderr",
          "text": [
            "  0%|          | 0/6608 [00:00<?, ?it/s]The following generation flags are not valid and may be ignored: ['temperature']. Set `TRANSFORMERS_VERBOSITY=info` for more details.\n",
            "  1%|          | 69/6608 [08:24<13:17:44,  7.32s/it]"
          ]
        }
      ]
    },
    {
      "cell_type": "code",
      "source": [
        "\n",
        "# ==============================================================================\n",
        "# PART 1: LABEL DISTRIBUTION IN TEST SET\n",
        "# ==============================================================================\n",
        "\n",
        "print(\"\\n\" + \"=\"*70)\n",
        "print(\"LABEL DISTRIBUTION IN TEST SET\")\n",
        "print(\"=\"*70)\n",
        "\n",
        "for i, label_name in enumerate(LABEL_NAMES):\n",
        "    print(f\"\\n{label_name}:\")\n",
        "\n",
        "    # Extract the i-th value from each label list\n",
        "    label_values = []\n",
        "    for idx in range(len(test_df_copy)):\n",
        "        labels_raw = test_df_copy.iloc[idx]['labels']\n",
        "\n",
        "        # Parse if string\n",
        "        if isinstance(labels_raw, str):\n",
        "            labels = ast.literal_eval(labels_raw)\n",
        "        else:\n",
        "            labels = labels_raw\n",
        "\n",
        "        label_values.append(labels[i])\n",
        "\n",
        "    # Count values\n",
        "    value_counts = pd.Series(label_values).value_counts().sort_index()\n",
        "    null_count = pd.Series(label_values).isna().sum()\n",
        "    total = len(label_values)\n",
        "\n",
        "    for value, count in value_counts.items():\n",
        "        pct = (count/total)*100\n",
        "        print(f\"  {value:>3}: {count:>5} ({pct:>5.1f}%)\")\n",
        "    if null_count > 0:\n",
        "        pct = (null_count/total)*100\n",
        "        print(f\"  Null: {null_count:>5} ({pct:>5.1f}%)\")"
      ],
      "metadata": {
        "id": "8DN10KKyytoo"
      },
      "execution_count": null,
      "outputs": []
    },
    {
      "cell_type": "code",
      "source": [
        "\n",
        "# ==============================================================================\n",
        "# PART 2: CALCULATE ACCURACY\n",
        "# ==============================================================================\n",
        "\n",
        "# Parse all predictions\n",
        "print(\"\\n\\nParsing predictions...\")\n",
        "results_df['pred_labels'] = results_df['prediction_text'].apply(parse_prediction)\n",
        "\n",
        "print(\"\\n\" + \"=\"*70)\n",
        "print(\"ACCURACY BY LABEL\")\n",
        "print(\"=\"*70)\n",
        "\n",
        "accuracy_results = []\n",
        "\n",
        "for i, label_name in enumerate(LABEL_NAMES):\n",
        "    # Extract true values (i-th element from true_labels list)\n",
        "    true_vals = results_df['true_labels'].apply(lambda x: x[i] if i < len(x) else None).values\n",
        "\n",
        "    # Extract predicted values\n",
        "    pred_vals = results_df['pred_labels'].apply(lambda x: x[i] if x and i < len(x) else None).values\n",
        "\n",
        "    # Remove any None predictions\n",
        "    valid_mask = ~pd.isna(pred_vals)\n",
        "    true_vals_valid = true_vals[valid_mask]\n",
        "    pred_vals_valid = pred_vals[valid_mask]\n",
        "\n",
        "    # Calculate accuracy\n",
        "    correct = (true_vals_valid == pred_vals_valid).sum()\n",
        "    total = len(true_vals_valid)\n",
        "    accuracy = correct / total if total > 0 else 0\n",
        "\n",
        "    # Count unparseable predictions\n",
        "    unparseable = (~valid_mask).sum()\n",
        "\n",
        "    accuracy_results.append({\n",
        "        'label': label_name,\n",
        "        'correct': correct,\n",
        "        'total': total,\n",
        "        'accuracy': accuracy,\n",
        "        'unparseable': unparseable\n",
        "    })\n",
        "\n",
        "    print(f\"\\n{label_name}:\")\n",
        "    print(f\"  Correct: {correct}/{total} = {accuracy:.3f}\")\n",
        "    if unparseable > 0:\n",
        "        print(f\"  Unparseable: {unparseable}\")\n"
      ],
      "metadata": {
        "id": "Um2SYHO8ywQf"
      },
      "execution_count": null,
      "outputs": []
    },
    {
      "cell_type": "code",
      "source": [
        "# Create accuracy summary DataFrame\n",
        "accuracy_df = pd.DataFrame(accuracy_results)\n",
        "\n",
        "# Overall exact match accuracy\n",
        "exact_matches = sum(1 for idx in range(len(results_df))\n",
        "                    if results_df.iloc[idx]['true_labels'] == results_df.iloc[idx]['pred_labels'])\n",
        "print(\"\\n\" + \"=\"*70)\n",
        "print(f\"EXACT MATCH (all 19 labels correct): {exact_matches}/{len(results_df)} = {exact_matches/len(results_df):.3f}\")\n",
        "print(\"=\"*70)\n",
        "\n",
        "# Save accuracy results\n",
        "accuracy_df.to_csv('label_accuracy.csv', index=False)\n",
        "print(\"\\nAccuracy results saved to label_accuracy.csv\")\n",
        "\n",
        "# Display summary\n",
        "print(\"\\nACCURACY SUMMARY:\")\n",
        "print(accuracy_df.to_string(index=False))"
      ],
      "metadata": {
        "id": "3ns08RtFyymJ"
      },
      "execution_count": null,
      "outputs": []
    }
  ]
}