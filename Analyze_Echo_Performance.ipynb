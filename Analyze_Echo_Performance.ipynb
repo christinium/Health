{
  "nbformat": 4,
  "nbformat_minor": 0,
  "metadata": {
    "colab": {
      "provenance": [],
      "machine_shape": "hm",
      "gpuType": "L4"
    },
    "kernelspec": {
      "name": "python3",
      "display_name": "Python 3"
    },
    "language_info": {
      "name": "python"
    },
    "accelerator": "GPU"
  },
  "cells": [
    {
      "cell_type": "markdown",
      "source": [
        "# Echo Results Review Try 2"
      ],
      "metadata": {
        "id": "r7zpJ0SAyRXS"
      }
    },
    {
      "cell_type": "code",
      "execution_count": null,
      "metadata": {
        "id": "EWe6XAZ-xpBN"
      },
      "outputs": [],
      "source": [
        "# Mount Google Drive\n",
        "from google.colab import drive\n",
        "drive.mount('/content/drive')\n",
        "\n",
        "# Set up working directory\n",
        "import os\n",
        "WORKING_DIR = '/content/drive/MyDrive/echo_training/'  # Change this to your preferred location\n",
        "os.makedirs(WORKING_DIR, exist_ok=True)\n",
        "os.chdir(WORKING_DIR)"
      ]
    },
    {
      "cell_type": "code",
      "source": [
        "import pandas as pd\n",
        "import numpy as np\n",
        "import ast\n",
        "from tqdm import tqdm\n",
        "from transformers import AutoModelForCausalLM, AutoTokenizer\n",
        "import torch"
      ],
      "metadata": {
        "id": "yvGlzCufyfLA"
      },
      "execution_count": null,
      "outputs": []
    },
    {
      "cell_type": "code",
      "source": [
        "train_df = pd.read_csv('echo_train.csv')\n",
        "tune_df = pd.read_csv('echo_tune.csv')\n",
        "test_df = pd.read_csv('echo_test.csv')"
      ],
      "metadata": {
        "id": "HEU6Eg7JzBo2"
      },
      "execution_count": null,
      "outputs": []
    },
    {
      "cell_type": "code",
      "source": [
        "test_df_copy = test_df.copy()"
      ],
      "metadata": {
        "id": "Pyp9X_O5zDiu"
      },
      "execution_count": null,
      "outputs": []
    },
    {
      "cell_type": "code",
      "source": [
        "test_df_copy = test_df_copy.rename(columns={test_df_copy.columns[0]: 'id_num'})"
      ],
      "metadata": {
        "id": "F5lpo5BGzgCE"
      },
      "execution_count": null,
      "outputs": []
    },
    {
      "cell_type": "code",
      "source": [
        "\n",
        "# ==============================================================================\n",
        "# SETUP: LOAD MODEL AND DEFINE LABELS\n",
        "# ==============================================================================\n",
        "\n",
        "# Define label names\n",
        "LABEL_NAMES = [\n",
        "    'LA_cavity', 'RA_dilated', 'LV_systolic', 'LV_cavity',\n",
        "    'LV_wall', 'RV_cavity', 'RV_systolic', 'AV_stenosis',\n",
        "    'MV_stenosis', 'TV_regurgitation', 'TV_stenosis',\n",
        "    'TV_pulm_htn', 'AV_regurgitation', 'MV_regurgitation',\n",
        "    'RA_pressure', 'LV_diastolic', 'RV_volume_overload',\n",
        "    'RV_wall', 'RV_pressure_overload'\n",
        "]\n",
        "\n",
        "# Load the fine-tuned model\n",
        "model_path = \"final_model\"\n",
        "tokenizer = AutoTokenizer.from_pretrained(model_path)\n",
        "model = AutoModelForCausalLM.from_pretrained(\n",
        "    model_path,\n",
        "    device_map=\"auto\",\n",
        "    torch_dtype=torch.bfloat16\n",
        ")"
      ],
      "metadata": {
        "id": "iwDVLfmcyiif"
      },
      "execution_count": null,
      "outputs": []
    },
    {
      "cell_type": "code",
      "source": [
        "\n",
        "# ==============================================================================\n",
        "# INFERENCE FUNCTION\n",
        "# ==============================================================================\n",
        "\n",
        "def generate_prediction(text):\n",
        "    prompt = f\"\"\"<start_of_turn>user\n",
        "Analyze this echocardiogram report and provide assessment values for each cardiac feature. Output should be in the format \"feature: value\" for each of the 19 features.\n",
        "\n",
        "Report:\n",
        "{text}<end_of_turn>\n",
        "<start_of_turn>model\n",
        "\"\"\"\n",
        "\n",
        "    inputs = tokenizer(prompt, return_tensors=\"pt\").to(model.device)\n",
        "    outputs = model.generate(\n",
        "        **inputs,\n",
        "        max_new_tokens=300,\n",
        "        temperature=0.1,\n",
        "        do_sample=False,\n",
        "        pad_token_id=tokenizer.eos_token_id\n",
        "    )\n",
        "\n",
        "    full_output = tokenizer.decode(outputs[0], skip_special_tokens=True)\n",
        "    # Extract just the model's response\n",
        "    model_output = full_output.split(\"<start_of_turn>model\\n\")[-1].strip()\n",
        "    return model_output\n"
      ],
      "metadata": {
        "id": "zAp7BJopykxw"
      },
      "execution_count": null,
      "outputs": []
    },
    {
      "cell_type": "code",
      "source": [
        "# ==============================================================================\n",
        "# PARSE PREDICTIONS - SIMPLER VERSION\n",
        "# ==============================================================================\n",
        "\n",
        "def parse_prediction(pred_text):\n",
        "    \"\"\"Extract predicted label values from model output text\"\"\"\n",
        "    predicted = []\n",
        "    lines = pred_text.split('\\n')\n",
        "\n",
        "    for label_name in LABEL_NAMES:\n",
        "        found = False\n",
        "        for line in lines:\n",
        "            if label_name in line and ':' in line:\n",
        "                try:\n",
        "                    # Get text after colon, remove spaces, convert to int\n",
        "                    value_str = line.split(':')[1].strip()\n",
        "                    value = int(value_str)\n",
        "                    predicted.append(value)\n",
        "                    found = True\n",
        "                    break\n",
        "                except:\n",
        "                    pass\n",
        "\n",
        "        if not found:\n",
        "            predicted.append(None)\n",
        "\n",
        "    return predicted"
      ],
      "metadata": {
        "id": "mnxe2a5nynCH"
      },
      "execution_count": null,
      "outputs": []
    },
    {
      "cell_type": "code",
      "source": [
        "# ==============================================================================\n",
        "# RUN INFERENCE ON ALL TEST EXAMPLES\n",
        "# ==============================================================================\n",
        "\n",
        "results = []\n",
        "\n",
        "print(f\"Running inference on {len(test_df_copy)} test examples...\")\n",
        "for idx in tqdm(range(len(test_df_copy))):\n",
        "    # Get data\n",
        "    echo_text = test_df_copy.iloc[idx]['text']\n",
        "    true_labels_raw = test_df_copy.iloc[idx]['labels']\n",
        "    id_num = test_df_copy.iloc[idx]['id_num']\n",
        "\n",
        "    # Parse true labels\n",
        "    if isinstance(true_labels_raw, str):\n",
        "        true_labels = ast.literal_eval(true_labels_raw)\n",
        "    else:\n",
        "        true_labels = true_labels_raw\n",
        "\n",
        "    # Generate prediction\n",
        "    pred_text = generate_prediction(echo_text)\n",
        "\n",
        "    # Store results\n",
        "    result = {\n",
        "        'idx': idx,\n",
        "        'id_num': id_num,\n",
        "        'echo_text': echo_text,\n",
        "        'true_labels': true_labels,\n",
        "        'prediction_text': pred_text\n",
        "    }\n",
        "\n",
        "    results.append(result)\n",
        "\n",
        "# Convert to DataFrame\n",
        "results_df = pd.DataFrame(results)\n",
        "\n",
        "# Save results\n",
        "results_df.to_csv('test_inference_results.csv', index=False)\n",
        "print(f\"\\nSaved results to test_inference_results.csv\")\n",
        "print(f\"Shape: {results_df.shape}\")"
      ],
      "metadata": {
        "id": "iw57Jqw-yqFo"
      },
      "execution_count": null,
      "outputs": []
    },
    {
      "cell_type": "code",
      "source": [
        "\n",
        "# ==============================================================================\n",
        "# PART 1: LABEL DISTRIBUTION IN TEST SET\n",
        "# ==============================================================================\n",
        "\n",
        "print(\"\\n\" + \"=\"*70)\n",
        "print(\"LABEL DISTRIBUTION IN TEST SET\")\n",
        "print(\"=\"*70)\n",
        "\n",
        "for i, label_name in enumerate(LABEL_NAMES):\n",
        "    print(f\"\\n{label_name}:\")\n",
        "\n",
        "    # Extract the i-th value from each label list\n",
        "    label_values = []\n",
        "    for idx in range(len(test_df_copy)):\n",
        "        labels_raw = test_df_copy.iloc[idx]['labels']\n",
        "\n",
        "        # Parse if string\n",
        "        if isinstance(labels_raw, str):\n",
        "            labels = ast.literal_eval(labels_raw)\n",
        "        else:\n",
        "            labels = labels_raw\n",
        "\n",
        "        label_values.append(labels[i])\n",
        "\n",
        "    # Count values\n",
        "    value_counts = pd.Series(label_values).value_counts().sort_index()\n",
        "    null_count = pd.Series(label_values).isna().sum()\n",
        "    total = len(label_values)\n",
        "\n",
        "    for value, count in value_counts.items():\n",
        "        pct = (count/total)*100\n",
        "        print(f\"  {value:>3}: {count:>5} ({pct:>5.1f}%)\")\n",
        "    if null_count > 0:\n",
        "        pct = (null_count/total)*100\n",
        "        print(f\"  Null: {null_count:>5} ({pct:>5.1f}%)\")"
      ],
      "metadata": {
        "id": "8DN10KKyytoo"
      },
      "execution_count": null,
      "outputs": []
    },
    {
      "cell_type": "code",
      "source": [
        "\n",
        "# ==============================================================================\n",
        "# PART 2: CALCULATE ACCURACY\n",
        "# ==============================================================================\n",
        "\n",
        "# Parse all predictions\n",
        "print(\"\\n\\nParsing predictions...\")\n",
        "results_df['pred_labels'] = results_df['prediction_text'].apply(parse_prediction)\n",
        "\n",
        "print(\"\\n\" + \"=\"*70)\n",
        "print(\"ACCURACY BY LABEL\")\n",
        "print(\"=\"*70)\n",
        "\n",
        "accuracy_results = []\n",
        "\n",
        "for i, label_name in enumerate(LABEL_NAMES):\n",
        "    # Extract true values (i-th element from true_labels list)\n",
        "    true_vals = results_df['true_labels'].apply(lambda x: x[i] if i < len(x) else None).values\n",
        "\n",
        "    # Extract predicted values\n",
        "    pred_vals = results_df['pred_labels'].apply(lambda x: x[i] if x and i < len(x) else None).values\n",
        "\n",
        "    # Remove any None predictions\n",
        "    valid_mask = ~pd.isna(pred_vals)\n",
        "    true_vals_valid = true_vals[valid_mask]\n",
        "    pred_vals_valid = pred_vals[valid_mask]\n",
        "\n",
        "    # Calculate accuracy\n",
        "    correct = (true_vals_valid == pred_vals_valid).sum()\n",
        "    total = len(true_vals_valid)\n",
        "    accuracy = correct / total if total > 0 else 0\n",
        "\n",
        "    # Count unparseable predictions\n",
        "    unparseable = (~valid_mask).sum()\n",
        "\n",
        "    accuracy_results.append({\n",
        "        'label': label_name,\n",
        "        'correct': correct,\n",
        "        'total': total,\n",
        "        'accuracy': accuracy,\n",
        "        'unparseable': unparseable\n",
        "    })\n",
        "\n",
        "    print(f\"\\n{label_name}:\")\n",
        "    print(f\"  Correct: {correct}/{total} = {accuracy:.3f}\")\n",
        "    if unparseable > 0:\n",
        "        print(f\"  Unparseable: {unparseable}\")\n"
      ],
      "metadata": {
        "id": "Um2SYHO8ywQf"
      },
      "execution_count": null,
      "outputs": []
    },
    {
      "cell_type": "code",
      "source": [
        "# Create accuracy summary DataFrame\n",
        "accuracy_df = pd.DataFrame(accuracy_results)\n",
        "\n",
        "# Overall exact match accuracy\n",
        "exact_matches = sum(1 for idx in range(len(results_df))\n",
        "                    if results_df.iloc[idx]['true_labels'] == results_df.iloc[idx]['pred_labels'])\n",
        "print(\"\\n\" + \"=\"*70)\n",
        "print(f\"EXACT MATCH (all 19 labels correct): {exact_matches}/{len(results_df)} = {exact_matches/len(results_df):.3f}\")\n",
        "print(\"=\"*70)\n",
        "\n",
        "# Save accuracy results\n",
        "accuracy_df.to_csv('label_accuracy.csv', index=False)\n",
        "print(\"\\nAccuracy results saved to label_accuracy.csv\")\n",
        "\n",
        "# Display summary\n",
        "print(\"\\nACCURACY SUMMARY:\")\n",
        "print(accuracy_df.to_string(index=False))"
      ],
      "metadata": {
        "id": "3ns08RtFyymJ"
      },
      "execution_count": null,
      "outputs": []
    }
  ]
}