{
  "nbformat": 4,
  "nbformat_minor": 0,
  "metadata": {
    "colab": {
      "provenance": [],
      "authorship_tag": "ABX9TyNoGWGu0gZrCFSxVELMMwxo",
      "include_colab_link": true
    },
    "kernelspec": {
      "name": "python3",
      "display_name": "Python 3"
    },
    "language_info": {
      "name": "python"
    }
  },
  "cells": [
    {
      "cell_type": "markdown",
      "metadata": {
        "id": "view-in-github",
        "colab_type": "text"
      },
      "source": [
        "<a href=\"https://colab.research.google.com/github/christinium/Health/blob/main/EchoReports_to_CSV.ipynb\" target=\"_parent\"><img src=\"https://colab.research.google.com/assets/colab-badge.svg\" alt=\"Open In Colab\"/></a>"
      ]
    },
    {
      "cell_type": "markdown",
      "source": [
        "## Echo Reports to CSV Format\n",
        "This notebook extracts the \"Findings\" section from echocardiography reports stored in a CSV file, calculate the length statistics of the extracted text, and save the processed data to a new CSV file.\n",
        "\n",
        "This file will be used in model training for:\n",
        "Yet another copy of echo_note_training.ipynb\n",
        "\n",
        "This data can be found at:<br>\n",
        "https://physionet.org/content/echo-note-to-num/1.0.0/"
      ],
      "metadata": {
        "id": "02G01dh4YWFr"
      }
    },
    {
      "cell_type": "code",
      "source": [
        "# Mount Google Drive\n",
        "from google.colab import drive\n",
        "drive.mount('/content/drive')\n",
        "\n",
        "# Set up working directory\n",
        "import os\n",
        "WORKING_DIR = '/content/drive/MyDrive/echo_training/'  # Change this to your preferred location\n",
        "os.makedirs(WORKING_DIR, exist_ok=True)\n",
        "os.chdir(WORKING_DIR)"
      ],
      "metadata": {
        "colab": {
          "base_uri": "https://localhost:8080/"
        },
        "id": "YB0sQzX6jgIc",
        "outputId": "a3d70f7c-44e4-4a9e-c405-2d0157198584"
      },
      "execution_count": 2,
      "outputs": [
        {
          "output_type": "stream",
          "name": "stdout",
          "text": [
            "Mounted at /content/drive\n"
          ]
        }
      ]
    },
    {
      "cell_type": "code",
      "source": [
        "import re\n",
        "\n",
        "def extract_findings(report_text):\n",
        "    \"\"\"\n",
        "    Extract everything between 'Findings:' and 'Conclusions:'\n",
        "    \"\"\"\n",
        "    # Pattern to match everything between Findings: and Conclusions:\n",
        "    pattern = r'Findings:(.*?)Conclusions:'\n",
        "\n",
        "    match = re.search(pattern, report_text, re.DOTALL)\n",
        "\n",
        "    if match:\n",
        "        findings = match.group(1).strip()\n",
        "        return findings\n",
        "    else:\n",
        "        return \"Could not find Findings and Conclusions sections\"\n",
        "\n",
        "# Example usage\n",
        "report = \"\"\"\n",
        "PATIENT/TEST INFORMATION: Indication: Congestive heart failure. Left ventricular function. Shortness of breath. Height: (in) 66 Weight (lb): 177 BSA (m2): 1.90 m2 BP (mm Hg): 150/80 HR (bpm): 60 Status: Inpatient Date/Time: [**2105-11-6**] at 14:57 Test: TTE (Complete) Doppler: Full Doppler and color Doppler Contrast: None Technical Quality: Adequate INTERPRETATION: Findings: LEFT ATRIUM: Mild LA enlargement. RIGHT ATRIUM/INTERATRIAL SEPTUM: Mildly dilated RA. Increased IVC diameter (>2.1cm) with <35% decrease during respiration (estimated RA pressure (10-20mmHg). LEFT VENTRICLE: Estimated cardiac index is normal (>=2.5L/min/m2). TDI E/e' >15, suggesting PCWP>18mmHg. No resting LVOT gradient. RIGHT VENTRICLE: Normal RV chamber size and free wall motion. Paradoxic septal motion consistent with prior cardiac surgery. AORTA: Normal diameter of aorta at the sinus, ascending and arch levels. Focal calcifications in aortic root. No 2D or Doppler evidence of distal arch coarctation. AORTIC VALVE: Mildly thickened aortic valve leaflets (3). No AS. No AR. MITRAL VALVE: Normal mitral valve leaflets with trivial MR. No MVP. TRICUSPID VALVE: Normal tricuspid valve leaflets. Mild [1+] TR. Moderate PA systolic hypertension. PULMONIC VALVE/PULMONARY ARTERY: Normal pulmonic valve leaflet. No PS. Physiologic PR. PERICARDIUM: No pericardial effusion. Conclusions: The left atrium is mildly dilated.\n",
        "\"\"\"\n",
        "\n",
        "findings = extract_findings(report)\n",
        "print(findings)"
      ],
      "metadata": {
        "colab": {
          "base_uri": "https://localhost:8080/"
        },
        "id": "zqkojcxpjzaQ",
        "outputId": "ec0c990e-498e-4ab2-964f-c0dad27eb234"
      },
      "execution_count": 3,
      "outputs": [
        {
          "output_type": "stream",
          "name": "stdout",
          "text": [
            "LEFT ATRIUM: Mild LA enlargement. RIGHT ATRIUM/INTERATRIAL SEPTUM: Mildly dilated RA. Increased IVC diameter (>2.1cm) with <35% decrease during respiration (estimated RA pressure (10-20mmHg). LEFT VENTRICLE: Estimated cardiac index is normal (>=2.5L/min/m2). TDI E/e' >15, suggesting PCWP>18mmHg. No resting LVOT gradient. RIGHT VENTRICLE: Normal RV chamber size and free wall motion. Paradoxic septal motion consistent with prior cardiac surgery. AORTA: Normal diameter of aorta at the sinus, ascending and arch levels. Focal calcifications in aortic root. No 2D or Doppler evidence of distal arch coarctation. AORTIC VALVE: Mildly thickened aortic valve leaflets (3). No AS. No AR. MITRAL VALVE: Normal mitral valve leaflets with trivial MR. No MVP. TRICUSPID VALVE: Normal tricuspid valve leaflets. Mild [1+] TR. Moderate PA systolic hypertension. PULMONIC VALVE/PULMONARY ARTERY: Normal pulmonic valve leaflet. No PS. Physiologic PR. PERICARDIUM: No pericardial effusion.\n"
          ]
        }
      ]
    },
    {
      "cell_type": "code",
      "source": [
        "# Load your CSV file\n",
        "df = pd.read_csv('/content/drive/MyDrive/echo_training/echo_dataset.csv')\n"
      ],
      "metadata": {
        "id": "hFvLRNRslMtt"
      },
      "execution_count": 10,
      "outputs": []
    },
    {
      "cell_type": "code",
      "source": [],
      "metadata": {
        "id": "_KQBAwL5lTXv"
      },
      "execution_count": 25,
      "outputs": []
    }
  ]
}